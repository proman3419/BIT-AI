{
 "cells": [
  {
   "cell_type": "markdown",
   "metadata": {
    "id": "SkQITPTbiYKV"
   },
   "source": [
    "# Regresja regularyzowana"
   ]
  },
  {
   "cell_type": "code",
   "execution_count": 123,
   "metadata": {
    "id": "Nkf_EaDYiYKa"
   },
   "outputs": [],
   "source": [
    "import matplotlib.pyplot as plt\n",
    "import numpy as np\n",
    "import pandas as pd\n",
    "import seaborn as sns\n",
    "\n",
    "from sklearn.linear_model import Lasso, LinearRegression, Ridge\n",
    "from sklearn.datasets import load_boston\n",
    "from sklearn.metrics import mean_absolute_error, mean_squared_error\n",
    "from sklearn.model_selection import train_test_split\n",
    "from sklearn.preprocessing import PolynomialFeatures, StandardScaler"
   ]
  },
  {
   "cell_type": "markdown",
   "metadata": {
    "id": "2ILgXT5qiYKd"
   },
   "source": [
    "W tym notebooku przyjrzymy się regresji wielomianowej oraz zobaczymy, jak regularyzacja wpływa na wyniki. "
   ]
  },
  {
   "cell_type": "markdown",
   "metadata": {
    "id": "RiCMrdY9iYKe"
   },
   "source": [
    "## Regresja wielomianowa"
   ]
  },
  {
   "cell_type": "markdown",
   "metadata": {
    "id": "C5wF1ThHiYKe"
   },
   "source": [
    "W tej cześci porównamy działanie zwykłej regresji liniowej i regresji wielomianowej. W tym celu przeanalizujemy klasyczny zbiór danych dla regresji liniowej **Boston Housing Dataset**. Jest on jednym ze zbiorów wbudowanych w Scikit-learn'a, więc w module `sklearn.datasets` mamy funkcję `load_boston()` do wczytania zbioru. Domyślnie Scikit-learn zwraca obiekt typu `Bunch` podobny do Named Tuple, więc przekształcimy go na DataFrame'a z Pandasa, korzystając z odpowiednich pól (`.data` - macierz X, `.feature_names` - nazwy kolumn z X, `.target` - kolumna y).\n",
    "\n",
    "Zobaczmy, jak wygląda zbiór danych."
   ]
  },
  {
   "cell_type": "code",
   "execution_count": 124,
   "metadata": {
    "id": "Rn1N7u6TiYKf"
   },
   "outputs": [],
   "source": [
    "boston = load_boston()\n",
    "boston_df = pd.DataFrame(boston.data, columns=boston.feature_names)\n",
    "boston_df[\"MEDV\"] = boston.target"
   ]
  },
  {
   "cell_type": "code",
   "execution_count": 125,
   "metadata": {
    "id": "Pqn8OpU0iYKg",
    "outputId": "dcc90ecd-69de-4226-f3d1-8443ddef854a"
   },
   "outputs": [
    {
     "data": {
      "text/plain": "Index(['CRIM', 'ZN', 'INDUS', 'CHAS', 'NOX', 'RM', 'AGE', 'DIS', 'RAD', 'TAX',\n       'PTRATIO', 'B', 'LSTAT', 'MEDV'],\n      dtype='object')"
     },
     "execution_count": 125,
     "metadata": {},
     "output_type": "execute_result"
    }
   ],
   "source": [
    "boston_df.keys()"
   ]
  },
  {
   "cell_type": "code",
   "execution_count": 126,
   "metadata": {
    "id": "E-_k9ujQiYKh",
    "outputId": "bfd795d9-bed0-4a7c-f9cb-847615034491"
   },
   "outputs": [
    {
     "name": "stdout",
     "output_type": "stream",
     "text": [
      ".. _boston_dataset:\n",
      "\n",
      "Boston house prices dataset\n",
      "---------------------------\n",
      "\n",
      "**Data Set Characteristics:**  \n",
      "\n",
      "    :Number of Instances: 506 \n",
      "\n",
      "    :Number of Attributes: 13 numeric/categorical predictive. Median Value (attribute 14) is usually the target.\n",
      "\n",
      "    :Attribute Information (in order):\n",
      "        - CRIM     per capita crime rate by town\n",
      "        - ZN       proportion of residential land zoned for lots over 25,000 sq.ft.\n",
      "        - INDUS    proportion of non-retail business acres per town\n",
      "        - CHAS     Charles River dummy variable (= 1 if tract bounds river; 0 otherwise)\n",
      "        - NOX      nitric oxides concentration (parts per 10 million)\n",
      "        - RM       average number of rooms per dwelling\n",
      "        - AGE      proportion of owner-occupied units built prior to 1940\n",
      "        - DIS      weighted distances to five Boston employment centres\n",
      "        - RAD      index of accessibility to radial highways\n",
      "        - TAX      full-value property-tax rate per $10,000\n",
      "        - PTRATIO  pupil-teacher ratio by town\n",
      "        - B        1000(Bk - 0.63)^2 where Bk is the proportion of blacks by town\n",
      "        - LSTAT    % lower status of the population\n",
      "        - MEDV     Median value of owner-occupied homes in $1000's\n",
      "\n",
      "    :Missing Attribute Values: None\n",
      "\n",
      "    :Creator: Harrison, D. and Rubinfeld, D.L.\n",
      "\n",
      "This is a copy of UCI ML housing dataset.\n",
      "https://archive.ics.uci.edu/ml/machine-learning-databases/housing/\n",
      "\n",
      "\n",
      "This dataset was taken from the StatLib library which is maintained at Carnegie Mellon University.\n",
      "\n",
      "The Boston house-price data of Harrison, D. and Rubinfeld, D.L. 'Hedonic\n",
      "prices and the demand for clean air', J. Environ. Economics & Management,\n",
      "vol.5, 81-102, 1978.   Used in Belsley, Kuh & Welsch, 'Regression diagnostics\n",
      "...', Wiley, 1980.   N.B. Various transformations are used in the table on\n",
      "pages 244-261 of the latter.\n",
      "\n",
      "The Boston house-price data has been used in many machine learning papers that address regression\n",
      "problems.   \n",
      "     \n",
      ".. topic:: References\n",
      "\n",
      "   - Belsley, Kuh & Welsch, 'Regression diagnostics: Identifying Influential Data and Sources of Collinearity', Wiley, 1980. 244-261.\n",
      "   - Quinlan,R. (1993). Combining Instance-Based and Model-Based Learning. In Proceedings on the Tenth International Conference of Machine Learning, 236-243, University of Massachusetts, Amherst. Morgan Kaufmann.\n",
      "\n"
     ]
    }
   ],
   "source": [
    "print(boston.DESCR)"
   ]
  },
  {
   "cell_type": "markdown",
   "metadata": {
    "id": "qWLUrHopiYKi"
   },
   "source": [
    "Przyjrzyjmy się wartościom ze zbioru:"
   ]
  },
  {
   "cell_type": "code",
   "execution_count": 127,
   "metadata": {
    "id": "iquC4LwdiYKj",
    "outputId": "6f449e42-fd1d-4860-8c18-bf59f4c53f19"
   },
   "outputs": [
    {
     "data": {
      "text/plain": "      CRIM    ZN  INDUS  CHAS    NOX     RM   AGE     DIS  RAD    TAX  \\\n0  0.00632  18.0   2.31   0.0  0.538  6.575  65.2  4.0900  1.0  296.0   \n1  0.02731   0.0   7.07   0.0  0.469  6.421  78.9  4.9671  2.0  242.0   \n2  0.02729   0.0   7.07   0.0  0.469  7.185  61.1  4.9671  2.0  242.0   \n3  0.03237   0.0   2.18   0.0  0.458  6.998  45.8  6.0622  3.0  222.0   \n4  0.06905   0.0   2.18   0.0  0.458  7.147  54.2  6.0622  3.0  222.0   \n\n   PTRATIO       B  LSTAT  MEDV  \n0     15.3  396.90   4.98  24.0  \n1     17.8  396.90   9.14  21.6  \n2     17.8  392.83   4.03  34.7  \n3     18.7  394.63   2.94  33.4  \n4     18.7  396.90   5.33  36.2  ",
      "text/html": "<div>\n<style scoped>\n    .dataframe tbody tr th:only-of-type {\n        vertical-align: middle;\n    }\n\n    .dataframe tbody tr th {\n        vertical-align: top;\n    }\n\n    .dataframe thead th {\n        text-align: right;\n    }\n</style>\n<table border=\"1\" class=\"dataframe\">\n  <thead>\n    <tr style=\"text-align: right;\">\n      <th></th>\n      <th>CRIM</th>\n      <th>ZN</th>\n      <th>INDUS</th>\n      <th>CHAS</th>\n      <th>NOX</th>\n      <th>RM</th>\n      <th>AGE</th>\n      <th>DIS</th>\n      <th>RAD</th>\n      <th>TAX</th>\n      <th>PTRATIO</th>\n      <th>B</th>\n      <th>LSTAT</th>\n      <th>MEDV</th>\n    </tr>\n  </thead>\n  <tbody>\n    <tr>\n      <th>0</th>\n      <td>0.00632</td>\n      <td>18.0</td>\n      <td>2.31</td>\n      <td>0.0</td>\n      <td>0.538</td>\n      <td>6.575</td>\n      <td>65.2</td>\n      <td>4.0900</td>\n      <td>1.0</td>\n      <td>296.0</td>\n      <td>15.3</td>\n      <td>396.90</td>\n      <td>4.98</td>\n      <td>24.0</td>\n    </tr>\n    <tr>\n      <th>1</th>\n      <td>0.02731</td>\n      <td>0.0</td>\n      <td>7.07</td>\n      <td>0.0</td>\n      <td>0.469</td>\n      <td>6.421</td>\n      <td>78.9</td>\n      <td>4.9671</td>\n      <td>2.0</td>\n      <td>242.0</td>\n      <td>17.8</td>\n      <td>396.90</td>\n      <td>9.14</td>\n      <td>21.6</td>\n    </tr>\n    <tr>\n      <th>2</th>\n      <td>0.02729</td>\n      <td>0.0</td>\n      <td>7.07</td>\n      <td>0.0</td>\n      <td>0.469</td>\n      <td>7.185</td>\n      <td>61.1</td>\n      <td>4.9671</td>\n      <td>2.0</td>\n      <td>242.0</td>\n      <td>17.8</td>\n      <td>392.83</td>\n      <td>4.03</td>\n      <td>34.7</td>\n    </tr>\n    <tr>\n      <th>3</th>\n      <td>0.03237</td>\n      <td>0.0</td>\n      <td>2.18</td>\n      <td>0.0</td>\n      <td>0.458</td>\n      <td>6.998</td>\n      <td>45.8</td>\n      <td>6.0622</td>\n      <td>3.0</td>\n      <td>222.0</td>\n      <td>18.7</td>\n      <td>394.63</td>\n      <td>2.94</td>\n      <td>33.4</td>\n    </tr>\n    <tr>\n      <th>4</th>\n      <td>0.06905</td>\n      <td>0.0</td>\n      <td>2.18</td>\n      <td>0.0</td>\n      <td>0.458</td>\n      <td>7.147</td>\n      <td>54.2</td>\n      <td>6.0622</td>\n      <td>3.0</td>\n      <td>222.0</td>\n      <td>18.7</td>\n      <td>396.90</td>\n      <td>5.33</td>\n      <td>36.2</td>\n    </tr>\n  </tbody>\n</table>\n</div>"
     },
     "execution_count": 127,
     "metadata": {},
     "output_type": "execute_result"
    }
   ],
   "source": [
    "boston_df.head()"
   ]
  },
  {
   "cell_type": "markdown",
   "metadata": {
    "id": "SqskTydiiYKk"
   },
   "source": [
    "Jak widać, wartości przyjmują bardzo różne wartości, dlatego przed zastosowaniem regresji ustandaryzujemy je, tak jak w poprzednim notebooku. Jednak jak bardzo różne są to wartości? W Pandasie do sprawdzenia różnych statystyk (np. wartości brakujące, średnia, odchylenie standardowe, min i max, kwartyle) służy funkcja `.describe()`."
   ]
  },
  {
   "cell_type": "code",
   "execution_count": 128,
   "metadata": {
    "id": "yK5wXxdciYKl",
    "outputId": "d6902ded-ab56-4930-a311-99c42cba5bcd",
    "scrolled": true
   },
   "outputs": [
    {
     "data": {
      "text/plain": "             CRIM          ZN       INDUS        CHAS         NOX          RM  \\\ncount  506.000000  506.000000  506.000000  506.000000  506.000000  506.000000   \nmean     3.613524   11.363636   11.136779    0.069170    0.554695    6.284634   \nstd      8.601545   23.322453    6.860353    0.253994    0.115878    0.702617   \nmin      0.006320    0.000000    0.460000    0.000000    0.385000    3.561000   \n25%      0.082045    0.000000    5.190000    0.000000    0.449000    5.885500   \n50%      0.256510    0.000000    9.690000    0.000000    0.538000    6.208500   \n75%      3.677083   12.500000   18.100000    0.000000    0.624000    6.623500   \nmax     88.976200  100.000000   27.740000    1.000000    0.871000    8.780000   \n\n              AGE         DIS         RAD         TAX     PTRATIO           B  \\\ncount  506.000000  506.000000  506.000000  506.000000  506.000000  506.000000   \nmean    68.574901    3.795043    9.549407  408.237154   18.455534  356.674032   \nstd     28.148861    2.105710    8.707259  168.537116    2.164946   91.294864   \nmin      2.900000    1.129600    1.000000  187.000000   12.600000    0.320000   \n25%     45.025000    2.100175    4.000000  279.000000   17.400000  375.377500   \n50%     77.500000    3.207450    5.000000  330.000000   19.050000  391.440000   \n75%     94.075000    5.188425   24.000000  666.000000   20.200000  396.225000   \nmax    100.000000   12.126500   24.000000  711.000000   22.000000  396.900000   \n\n            LSTAT        MEDV  \ncount  506.000000  506.000000  \nmean    12.653063   22.532806  \nstd      7.141062    9.197104  \nmin      1.730000    5.000000  \n25%      6.950000   17.025000  \n50%     11.360000   21.200000  \n75%     16.955000   25.000000  \nmax     37.970000   50.000000  ",
      "text/html": "<div>\n<style scoped>\n    .dataframe tbody tr th:only-of-type {\n        vertical-align: middle;\n    }\n\n    .dataframe tbody tr th {\n        vertical-align: top;\n    }\n\n    .dataframe thead th {\n        text-align: right;\n    }\n</style>\n<table border=\"1\" class=\"dataframe\">\n  <thead>\n    <tr style=\"text-align: right;\">\n      <th></th>\n      <th>CRIM</th>\n      <th>ZN</th>\n      <th>INDUS</th>\n      <th>CHAS</th>\n      <th>NOX</th>\n      <th>RM</th>\n      <th>AGE</th>\n      <th>DIS</th>\n      <th>RAD</th>\n      <th>TAX</th>\n      <th>PTRATIO</th>\n      <th>B</th>\n      <th>LSTAT</th>\n      <th>MEDV</th>\n    </tr>\n  </thead>\n  <tbody>\n    <tr>\n      <th>count</th>\n      <td>506.000000</td>\n      <td>506.000000</td>\n      <td>506.000000</td>\n      <td>506.000000</td>\n      <td>506.000000</td>\n      <td>506.000000</td>\n      <td>506.000000</td>\n      <td>506.000000</td>\n      <td>506.000000</td>\n      <td>506.000000</td>\n      <td>506.000000</td>\n      <td>506.000000</td>\n      <td>506.000000</td>\n      <td>506.000000</td>\n    </tr>\n    <tr>\n      <th>mean</th>\n      <td>3.613524</td>\n      <td>11.363636</td>\n      <td>11.136779</td>\n      <td>0.069170</td>\n      <td>0.554695</td>\n      <td>6.284634</td>\n      <td>68.574901</td>\n      <td>3.795043</td>\n      <td>9.549407</td>\n      <td>408.237154</td>\n      <td>18.455534</td>\n      <td>356.674032</td>\n      <td>12.653063</td>\n      <td>22.532806</td>\n    </tr>\n    <tr>\n      <th>std</th>\n      <td>8.601545</td>\n      <td>23.322453</td>\n      <td>6.860353</td>\n      <td>0.253994</td>\n      <td>0.115878</td>\n      <td>0.702617</td>\n      <td>28.148861</td>\n      <td>2.105710</td>\n      <td>8.707259</td>\n      <td>168.537116</td>\n      <td>2.164946</td>\n      <td>91.294864</td>\n      <td>7.141062</td>\n      <td>9.197104</td>\n    </tr>\n    <tr>\n      <th>min</th>\n      <td>0.006320</td>\n      <td>0.000000</td>\n      <td>0.460000</td>\n      <td>0.000000</td>\n      <td>0.385000</td>\n      <td>3.561000</td>\n      <td>2.900000</td>\n      <td>1.129600</td>\n      <td>1.000000</td>\n      <td>187.000000</td>\n      <td>12.600000</td>\n      <td>0.320000</td>\n      <td>1.730000</td>\n      <td>5.000000</td>\n    </tr>\n    <tr>\n      <th>25%</th>\n      <td>0.082045</td>\n      <td>0.000000</td>\n      <td>5.190000</td>\n      <td>0.000000</td>\n      <td>0.449000</td>\n      <td>5.885500</td>\n      <td>45.025000</td>\n      <td>2.100175</td>\n      <td>4.000000</td>\n      <td>279.000000</td>\n      <td>17.400000</td>\n      <td>375.377500</td>\n      <td>6.950000</td>\n      <td>17.025000</td>\n    </tr>\n    <tr>\n      <th>50%</th>\n      <td>0.256510</td>\n      <td>0.000000</td>\n      <td>9.690000</td>\n      <td>0.000000</td>\n      <td>0.538000</td>\n      <td>6.208500</td>\n      <td>77.500000</td>\n      <td>3.207450</td>\n      <td>5.000000</td>\n      <td>330.000000</td>\n      <td>19.050000</td>\n      <td>391.440000</td>\n      <td>11.360000</td>\n      <td>21.200000</td>\n    </tr>\n    <tr>\n      <th>75%</th>\n      <td>3.677083</td>\n      <td>12.500000</td>\n      <td>18.100000</td>\n      <td>0.000000</td>\n      <td>0.624000</td>\n      <td>6.623500</td>\n      <td>94.075000</td>\n      <td>5.188425</td>\n      <td>24.000000</td>\n      <td>666.000000</td>\n      <td>20.200000</td>\n      <td>396.225000</td>\n      <td>16.955000</td>\n      <td>25.000000</td>\n    </tr>\n    <tr>\n      <th>max</th>\n      <td>88.976200</td>\n      <td>100.000000</td>\n      <td>27.740000</td>\n      <td>1.000000</td>\n      <td>0.871000</td>\n      <td>8.780000</td>\n      <td>100.000000</td>\n      <td>12.126500</td>\n      <td>24.000000</td>\n      <td>711.000000</td>\n      <td>22.000000</td>\n      <td>396.900000</td>\n      <td>37.970000</td>\n      <td>50.000000</td>\n    </tr>\n  </tbody>\n</table>\n</div>"
     },
     "execution_count": 128,
     "metadata": {},
     "output_type": "execute_result"
    }
   ],
   "source": [
    "boston_df.describe()"
   ]
  },
  {
   "cell_type": "markdown",
   "metadata": {
    "id": "jHg_YLHoiYKl"
   },
   "source": [
    "Spróbujemy za chwilę wrzucić do modelu cały zbiór danych (chociaż moglibyśmy próbować wybierać jakiś jego podzbiór, który według nas lepiej nadaje się do regresji) i zobaczyć jak różne modyfikacje regresji sobie z tym poradzą.\n",
    "\n",
    "Najpierw jednak sprawdźmy, jak rozrzucone są wartości naszej zmiennej zależnej - chcemy, aby był to rozkład normalny albo coś do niego zbliżonego."
   ]
  },
  {
   "cell_type": "code",
   "execution_count": 129,
   "metadata": {
    "id": "hJHa2fsEiYKm",
    "outputId": "701f27bf-da93-449e-943f-311e01167a06"
   },
   "outputs": [
    {
     "name": "stderr",
     "output_type": "stream",
     "text": [
      "/home/przemek/anaconda3/lib/python3.8/site-packages/seaborn/distributions.py:2557: FutureWarning: `distplot` is a deprecated function and will be removed in a future version. Please adapt your code to use either `displot` (a figure-level function with similar flexibility) or `histplot` (an axes-level function for histograms).\n",
      "  warnings.warn(msg, FutureWarning)\n"
     ]
    },
    {
     "data": {
      "text/plain": "<AxesSubplot:ylabel='Density'>"
     },
     "execution_count": 129,
     "metadata": {},
     "output_type": "execute_result"
    },
    {
     "data": {
      "text/plain": "<Figure size 432x288 with 1 Axes>",
      "image/png": "[encoded data removed]"
     },
     "metadata": {
      "needs_background": "light"
     },
     "output_type": "display_data"
    }
   ],
   "source": [
    "sns.distplot(boston.target)"
   ]
  },
  {
   "cell_type": "markdown",
   "metadata": {
    "id": "qmIWqHhEiYKm"
   },
   "source": [
    "Sprawdźmy też korelacje - zgodnie z założeniami regresji liniowej z wykładu silnie skorelowane cechy są bardzo niekorzystne dla tego algorytmu."
   ]
  },
  {
   "cell_type": "code",
   "execution_count": 130,
   "metadata": {
    "id": "rJsw8e55iYKm",
    "outputId": "292a2f74-bc85-49c1-adf1-0b182877ccf6"
   },
   "outputs": [
    {
     "data": {
      "text/plain": "<AxesSubplot:>"
     },
     "execution_count": 130,
     "metadata": {},
     "output_type": "execute_result"
    },
    {
     "data": {
      "text/plain": "<Figure size 720x576 with 2 Axes>",
      "image/png": "[encoded data removed]"
     },
     "metadata": {
      "needs_background": "light"
     },
     "output_type": "display_data"
    }
   ],
   "source": [
    "fig, ax = plt.subplots(figsize=(10., 8.))\n",
    "sns.heatmap(ax=ax, data=boston_df.corr(), annot=True)"
   ]
  },
  {
   "cell_type": "markdown",
   "metadata": {
    "id": "N9atyxApiYKn"
   },
   "source": [
    "Na szczęście nie ma tu na ogół bardzo mocnych korelacji, poza zmiennymi RAD i TAX - są to odpowiednio dostęp do autostrad i podatek. Na pierwszy rzut oka nie widać, czemu korelacja tych cech miałaby być tak wysoka (może lokalizacje działek niedaleko wjazdów na autostrady są na ogół na cenniejszych gruntach z wyższym podatkiem?), ale tak się zdarza. Warto na to potem zwrócić uwagę."
   ]
  },
  {
   "cell_type": "markdown",
   "metadata": {
    "id": "DbGZI4JBiYKo"
   },
   "source": [
    "Podzielmy teraz nasze dane na zbiory treningowy i testowy oraz je ustandaryzujmy."
   ]
  },
  {
   "cell_type": "code",
   "execution_count": 131,
   "metadata": {
    "id": "01Sdftx8iYKo"
   },
   "outputs": [],
   "source": [
    "X_train, X_test, y_train, y_test = train_test_split(boston.data, boston.target, test_size=0.3, random_state=0)"
   ]
  },
  {
   "cell_type": "code",
   "execution_count": 132,
   "metadata": {
    "id": "nLTle55miYKo"
   },
   "outputs": [],
   "source": [
    "scaler = StandardScaler()\n",
    "scaler.fit(X_train)\n",
    "X_train_rescaled = scaler.transform(X_train)\n",
    "X_test_rescaled = scaler.transform(X_test)"
   ]
  },
  {
   "cell_type": "markdown",
   "metadata": {},
   "source": []
  },
  {
   "cell_type": "markdown",
   "metadata": {
    "id": "RWH18B-FiYKp"
   },
   "source": [
    "Przypomnijmy sobie, że regresor `LinearRegression()` ze Scikit-learn'a ma 4 ważne hiperparametry:\n",
    "\n",
    "1) `fit_intercept=True` - czy mamy wyraz wolny (bias, intercept), czy nie; jeżeli nasze dane są wycentrowane (mają wartość średnią 0), to powinniśmy dać False, żeby prosta przechodziła przez środek naszej chmury punktów\n",
    "\n",
    "2) `normalize=False` - (ignorowane, gdy `fit_intercept=False`) gdy ma wartość `True`, to dokonamy normalizacji (odjęcia wartości średniej, znormalizowania wektorów kolumnowych cech dzieląc je przez ich długość) - tego rodzaju, o którym mówiliśmy na ostatnim wykładzie\n",
    "\n",
    "3) `copy_X=True` - czy kopiować macierz `X`; jest to koszt pamięciowy, ale dla `False` macierz może zostać nadpisana dla wydajności (np. przy normalizacji), przez co stracimy oryginalne dane\n",
    "\n",
    "4) `n_jobs=None` - ile rdzeni wykorzystać do obliczeń, regresja liniowa w wersjach różniczkowalnych (zwykła i L2) dobrze się uwspółbieżnia dzięki wykorzystaniu macierzy; typowo ustawiamy -1 (wszystkie rdzenie)"
   ]
  },
  {
   "cell_type": "code",
   "execution_count": 133,
   "metadata": {
    "id": "UeXpOqgBiYKp",
    "outputId": "d5cf7ff4-0092-4979-aed6-b4f09edd02be"
   },
   "outputs": [
    {
     "data": {
      "text/plain": "LinearRegression(n_jobs=-1)"
     },
     "execution_count": 133,
     "metadata": {},
     "output_type": "execute_result"
    }
   ],
   "source": [
    "linear_model = LinearRegression(n_jobs=-1)\n",
    "linear_model.fit(X_train_rescaled, y_train)"
   ]
  },
  {
   "cell_type": "markdown",
   "metadata": {
    "id": "eWOShMhriYKq"
   },
   "source": [
    "Tym razem nie będziemy już ręcznie liczyć metryk jak w poprzednim notebooku, tylko skorzystamy z wbudowanych funkcji Scikit-learn'a, które efektywnie robią pod spodem to samo, ale są czytelniejsze i krósze w zapisie. Są to:\n",
    "\n",
    "- `mean_absolute_error()` - błąd MAE, przyjmuje argumenty `y_true` i `y_pred`\n",
    "- `mean_squared_error()` - błąd MSE lub RMSE, zależy to od argumentu `squared` (dla `True` - MSE, dla `False` - RMSE, domyślnie `True`); jak chcemy dostać RSS, to musimy policzyć MSE i pomnożyć przez liczbę przykładów `n`; poza tym przyjmuje argumenty `y_true` i `y_pred`"
   ]
  },
  {
   "cell_type": "code",
   "execution_count": 134,
   "metadata": {
    "id": "Q_jE8M2kiYKq",
    "outputId": "9c85df95-d8cc-427a-a80d-a56b00a98312"
   },
   "outputs": [
    {
     "name": "stdout",
     "output_type": "stream",
     "text": [
      "RSS: 4133.786796566247\n",
      "RMSE: 5.214975145375403\n",
      "MAE: 3.6099040603818127\n"
     ]
    }
   ],
   "source": [
    "y_pred = linear_model.predict(X_test_rescaled)\n",
    "n = X_test_rescaled.shape[0]\n",
    "\n",
    "print(f\"RSS: {n * mean_squared_error(y_test, y_pred, squared=True)}\")\n",
    "print(f\"RMSE: {mean_squared_error(y_test, y_pred, squared=False)}\")\n",
    "print(f\"MAE: {mean_absolute_error(y_test, y_pred)}\")"
   ]
  },
  {
   "cell_type": "markdown",
   "metadata": {
    "id": "OblK3pxViYKr"
   },
   "source": [
    "Wypiszmy współczynniki dla poszczególnych cech, budując pomocniczy DataFrame:"
   ]
  },
  {
   "cell_type": "code",
   "execution_count": 135,
   "metadata": {
    "id": "X-shWeSNiYKr",
    "outputId": "8c28d0bd-3307-432e-c55b-4a1f4d1fe3c1"
   },
   "outputs": [
    {
     "name": "stdout",
     "output_type": "stream",
     "text": [
      "Intercept: 22.745480225988754\n"
     ]
    },
    {
     "data": {
      "text/plain": "         Coefficient\nCRIM       -1.011901\nZN          1.050280\nINDUS       0.079210\nCHAS        0.618962\nNOX        -1.873691\nRM          2.705270\nAGE        -0.279573\nDIS        -3.097665\nRAD         2.096900\nTAX        -1.886063\nPTRATIO    -2.261105\nB           0.582643\nLSTAT      -3.440498",
      "text/html": "<div>\n<style scoped>\n    .dataframe tbody tr th:only-of-type {\n        vertical-align: middle;\n    }\n\n    .dataframe tbody tr th {\n        vertical-align: top;\n    }\n\n    .dataframe thead th {\n        text-align: right;\n    }\n</style>\n<table border=\"1\" class=\"dataframe\">\n  <thead>\n    <tr style=\"text-align: right;\">\n      <th></th>\n      <th>Coefficient</th>\n    </tr>\n  </thead>\n  <tbody>\n    <tr>\n      <th>CRIM</th>\n      <td>-1.011901</td>\n    </tr>\n    <tr>\n      <th>ZN</th>\n      <td>1.050280</td>\n    </tr>\n    <tr>\n      <th>INDUS</th>\n      <td>0.079210</td>\n    </tr>\n    <tr>\n      <th>CHAS</th>\n      <td>0.618962</td>\n    </tr>\n    <tr>\n      <th>NOX</th>\n      <td>-1.873691</td>\n    </tr>\n    <tr>\n      <th>RM</th>\n      <td>2.705270</td>\n    </tr>\n    <tr>\n      <th>AGE</th>\n      <td>-0.279573</td>\n    </tr>\n    <tr>\n      <th>DIS</th>\n      <td>-3.097665</td>\n    </tr>\n    <tr>\n      <th>RAD</th>\n      <td>2.096900</td>\n    </tr>\n    <tr>\n      <th>TAX</th>\n      <td>-1.886063</td>\n    </tr>\n    <tr>\n      <th>PTRATIO</th>\n      <td>-2.261105</td>\n    </tr>\n    <tr>\n      <th>B</th>\n      <td>0.582643</td>\n    </tr>\n    <tr>\n      <th>LSTAT</th>\n      <td>-3.440498</td>\n    </tr>\n  </tbody>\n</table>\n</div>"
     },
     "execution_count": 135,
     "metadata": {},
     "output_type": "execute_result"
    }
   ],
   "source": [
    "print(f\"Intercept: {linear_model.intercept_}\")\n",
    "coeff_names = boston_df.keys().drop([\"MEDV\"])  # remove target column from names - it does not have a coefficient\n",
    "\n",
    "coeff_df = pd.DataFrame(linear_model.coef_, coeff_names, columns=[\"Coefficient\"])\n",
    "coeff_df"
   ]
  },
  {
   "cell_type": "markdown",
   "metadata": {
    "id": "OLYZokQyiYKr"
   },
   "source": [
    "Współczynniki nie są zbyt duże - to znak, że jest całkiem nieźle. Warto jednak zwrócić uwagę, że np. waga cechy INDUS (ilość biznesów nie-usługowych, czyli industrialnych) jest bardzo mała - być może warto byłoby się jej pozbyć?\n",
    "\n",
    "Kiedy wrócimy wyżej do macierzy z korelacjami i spojrzymy na korelację cechy INDUS z innymi, to ma dość mocne korelacje z cechami NOX (zanieczyszczenie powietrza) i AGE (liczba starych budynków). Skoro sama cecha INDUS jest mało warta, to być może te też? Sama cecha AGE też ma dość niewielką wagę, NOX już sporą, ale może to być mylny wynik, skoro mamy korelacje."
   ]
  },
  {
   "cell_type": "markdown",
   "metadata": {
    "id": "D_E-Ob2AiYKs"
   },
   "source": [
    "Przeanalizujmy teraz relację między wynikami naszego modelu a prawdziwymi wartościami. Z założeń regresji liniowej wiemy, że nie powinno być tu mocnych korelacji."
   ]
  },
  {
   "cell_type": "code",
   "execution_count": 136,
   "metadata": {
    "id": "3WSzQb5eiYKs",
    "outputId": "6469e690-a62f-4dde-8678-f88676ea459c"
   },
   "outputs": [
    {
     "name": "stderr",
     "output_type": "stream",
     "text": [
      "/home/przemek/anaconda3/lib/python3.8/site-packages/seaborn/distributions.py:2557: FutureWarning: `distplot` is a deprecated function and will be removed in a future version. Please adapt your code to use either `displot` (a figure-level function with similar flexibility) or `histplot` (an axes-level function for histograms).\n",
      "  warnings.warn(msg, FutureWarning)\n"
     ]
    },
    {
     "data": {
      "text/plain": "<AxesSubplot:ylabel='Density'>"
     },
     "execution_count": 136,
     "metadata": {},
     "output_type": "execute_result"
    },
    {
     "data": {
      "text/plain": "<Figure size 432x288 with 1 Axes>",
      "image/png": "[encoded data removed]"
     },
     "metadata": {
      "needs_background": "light"
     },
     "output_type": "display_data"
    }
   ],
   "source": [
    "sns.distplot(y_test - y_pred, bins=50)"
   ]
  },
  {
   "cell_type": "markdown",
   "metadata": {
    "id": "QQiRKKpViYKt"
   },
   "source": [
    "Jak widać, mamy rozkład w miarę zbliżony do normalnego, z mocnymi tendencjami do wartości średniej 0. To dobry znak - nasz regresor nieźle sobie radzi."
   ]
  },
  {
   "cell_type": "markdown",
   "metadata": {
    "id": "0qCe_iSviYKu"
   },
   "source": [
    "### Zadanie 1 - feature engineering"
   ]
  },
  {
   "cell_type": "markdown",
   "metadata": {
    "id": "ccmS5duViYKu"
   },
   "source": [
    "Dokonaj ręcznego feature engineeringu na podstawie dotychczasowych obserwacji. Usuń cechę INDUS i sprawdź, czy metryki są lepsze (na zbiorze testowym). Następnie usuń także cechę AGE, a potem też NOX - jak zmieniają się wyniki? Czy nasze podejrzenia okazały się słuszne?\n",
    "\n",
    "Przydatna będzie metoda `.drop()` DataFrame'ów z Pandasa - [link do dokumentacji](https://pandas.pydata.org/pandas-docs/stable/reference/api/pandas.DataFrame.drop.html)."
   ]
  },
  {
   "cell_type": "code",
   "execution_count": 137,
   "metadata": {
    "pycharm": {
     "name": "#%%\n"
    }
   },
   "outputs": [
    {
     "name": "stdout",
     "output_type": "stream",
     "text": [
      "Removing ['INDUS']\n",
      "RSS: 4135.718113708752\n",
      "RMSE: 5.216193228851426\n",
      "MAE: 3.6118384751481556\n",
      "\n",
      "Removing ['INDUS', 'AGE']\n",
      "RSS: 4111.078654580945\n",
      "RMSE: 5.2006317016231085\n",
      "MAE: 3.5950993510346874\n",
      "\n",
      "Removing ['INDUS', 'AGE', 'NOX']\n",
      "RSS: 4343.114083127612\n",
      "RMSE: 5.345382958025066\n",
      "MAE: 3.620944527256278\n",
      "\n"
     ]
    }
   ],
   "source": [
    "def print_error_metrics(linear_model, X_test_rescaled, y_test):\n",
    "    y_pred = linear_model.predict(X_test_rescaled)\n",
    "    n = X_test_rescaled.shape[0]\n",
    "\n",
    "    print(f\"RSS: {n * mean_squared_error(y_test, y_pred, squared=True)}\")\n",
    "    print(f\"RMSE: {mean_squared_error(y_test, y_pred, squared=False)}\")\n",
    "    print(f\"MAE: {mean_absolute_error(y_test, y_pred)}\")\n",
    "    print()\n",
    "\n",
    "\n",
    "def remove_feautures_check_errors(df, y_target, to_remove):\n",
    "    print(f\"Removing {to_remove}\")\n",
    "    df = df.drop(to_remove, axis=1)\n",
    "\n",
    "    X = df.to_numpy()\n",
    "    X_train, X_test, y_train, y_test = train_test_split(X, y_target, test_size=0.3, random_state=0)\n",
    "\n",
    "    scaler = StandardScaler()\n",
    "    scaler.fit(X_train)\n",
    "    X_train_rescaled = scaler.transform(X_train)\n",
    "    X_test_rescaled = scaler.transform(X_test)\n",
    "\n",
    "    linear_model = LinearRegression(n_jobs=-1)\n",
    "    linear_model.fit(X_train_rescaled, y_train)\n",
    "\n",
    "    print_error_metrics(linear_model, X_test_rescaled, y_test)\n",
    "\n",
    "\n",
    "boston = load_boston()\n",
    "boston_df = pd.DataFrame(boston.data, columns=boston.feature_names)\n",
    "\n",
    "features_to_remove = [\"INDUS\", \"AGE\", \"NOX\"]\n",
    "remove_feautures_check_errors(boston_df, boston.target, features_to_remove[:1])\n",
    "remove_feautures_check_errors(boston_df, boston.target, features_to_remove[:2])\n",
    "remove_feautures_check_errors(boston_df, boston.target, features_to_remove[:3])"
   ]
  },
  {
   "cell_type": "markdown",
   "metadata": {
    "id": "XSezJEBaiYKv"
   },
   "source": [
    "## Regresja wielomianowa"
   ]
  },
  {
   "cell_type": "markdown",
   "metadata": {
    "id": "-jqqTLv8iYKv"
   },
   "source": [
    "Użyjemy tutaj `PolynomialFeatures()`, aby wygenerować feature'y do stopnia 2 włącznie, co w połączeniu z `LinearRegression()` da regresję wielomianową.\n",
    "\n",
    "Ważne argumenty `PolynomialFeatures()`:\n",
    "\n",
    "1) `degree=2` - stopień wielomianu, który nas interesuje; wartość domyślna 2 daje sporo dodatkowych cech, ale jeszcze rozsądną liczbę\n",
    "\n",
    "2) `interaction_only=False` - czy generować wszystkie cechy, czy tylko interakcje między zmiennymi (iloczyny kolumn)?\n",
    "\n",
    "3) `include_bias=True` - czy dodawać explicite kolumnę samych 1, czyli bias? Jeżeli planujemy potem korzystać z modelu, który ma własny bias \"wbudowany\" (np. regresja liniowa), to trzeba ustawić False"
   ]
  },
  {
   "cell_type": "code",
   "execution_count": 138,
   "metadata": {
    "id": "t8DQsPsNiYKw"
   },
   "outputs": [],
   "source": [
    "poly_features = PolynomialFeatures(degree=2, include_bias=False)\n",
    "X_train_poly = poly_features.fit_transform(X_train)\n",
    "X_test_poly = poly_features.fit_transform(X_test)\n",
    "\n",
    "scaler = StandardScaler()\n",
    "scaler.fit(X_train_poly)\n",
    "X_train_poly_rescaled = scaler.transform(X_train_poly)\n",
    "X_test_poly_rescaled = scaler.transform(X_test_poly)"
   ]
  },
  {
   "cell_type": "code",
   "execution_count": 139,
   "metadata": {
    "id": "YGGw2leTiYKw",
    "outputId": "e91b5e53-2dc7-4037-d549-4211010586f4"
   },
   "outputs": [
    {
     "name": "stdout",
     "output_type": "stream",
     "text": [
      "Previous number of features: 13\n",
      "Current number of features: 104\n"
     ]
    }
   ],
   "source": [
    "print(f\"Previous number of features: {X_train_rescaled.shape[1]}\")\n",
    "print(f\"Current number of features: {X_train_poly_rescaled.shape[1]}\")"
   ]
  },
  {
   "cell_type": "code",
   "execution_count": 140,
   "metadata": {
    "id": "qgdeg5HWiYKw",
    "outputId": "c072a924-8e02-427f-ba1a-13e85902e4a9"
   },
   "outputs": [
    {
     "data": {
      "text/plain": "LinearRegression(n_jobs=-1)"
     },
     "execution_count": 140,
     "metadata": {},
     "output_type": "execute_result"
    }
   ],
   "source": [
    "polynomial_model = LinearRegression(n_jobs=-1)\n",
    "polynomial_model.fit(X_train_poly_rescaled, y_train)"
   ]
  },
  {
   "cell_type": "code",
   "execution_count": 141,
   "metadata": {
    "id": "6gGjjlCZiYK1",
    "outputId": "efc96244-c5a8-4094-9c81-a2c810956f72"
   },
   "outputs": [
    {
     "name": "stdout",
     "output_type": "stream",
     "text": [
      "RSS: 4446.38108515831\n",
      "RMSE: 5.4085586933303595\n",
      "MAE: 3.0519674972920248\n"
     ]
    }
   ],
   "source": [
    "y_pred = polynomial_model.predict(X_test_poly_rescaled)\n",
    "n = X_test_poly_rescaled.shape[0]\n",
    "\n",
    "print(f\"RSS: {n * mean_squared_error(y_test, y_pred, squared=True)}\")\n",
    "print(f\"RMSE: {mean_squared_error(y_test, y_pred, squared=False)}\")\n",
    "print(f\"MAE: {mean_absolute_error(y_test, y_pred)}\")"
   ]
  },
  {
   "cell_type": "markdown",
   "metadata": {
    "id": "bLg-g5iiiYK2"
   },
   "source": [
    "Według metryk RSS i RMSE radzimy sobie gorzej, według metryki MAE - lepiej. Może się zdarzyć, że będzie nam gorzej szło, bo znacznie zwiększyliśmy liczbę wymiarów i klątwa wymiarowości odciska tu swoje piętno. Fakt, że metryka MAE jest mniejsza, jest jednak bardzo ciekawy - potencjalnie mamy tu jakieś outliery, które dodatkowe feature'y mocniej uwydatniły, przez co RMSE wzrosło, a jednak bardziej \"bezpośrednie\" dopasowanie liczone wartością bezwzględną jest dokładniejsze."
   ]
  },
  {
   "cell_type": "code",
   "execution_count": 142,
   "metadata": {
    "id": "hoMgXBY6iYK2",
    "outputId": "a900e2ae-6d5b-4ca9-c49d-414623582ce4",
    "scrolled": true
   },
   "outputs": [
    {
     "name": "stderr",
     "output_type": "stream",
     "text": [
      "/home/przemek/anaconda3/lib/python3.8/site-packages/seaborn/distributions.py:2557: FutureWarning: `distplot` is a deprecated function and will be removed in a future version. Please adapt your code to use either `displot` (a figure-level function with similar flexibility) or `histplot` (an axes-level function for histograms).\n",
      "  warnings.warn(msg, FutureWarning)\n"
     ]
    },
    {
     "data": {
      "text/plain": "<AxesSubplot:ylabel='Density'>"
     },
     "execution_count": 142,
     "metadata": {},
     "output_type": "execute_result"
    },
    {
     "data": {
      "text/plain": "<Figure size 432x288 with 1 Axes>",
      "image/png": "[encoded data removed]"
     },
     "metadata": {
      "needs_background": "light"
     },
     "output_type": "display_data"
    }
   ],
   "source": [
    "sns.distplot(y_test - y_pred, bins=50)"
   ]
  },
  {
   "cell_type": "markdown",
   "metadata": {
    "id": "m74oGqdIiYK3"
   },
   "source": [
    "Porównajmy powyższy wykres z odpowiadającym mu wykresem dla zwykłej regresji. Możemy zauważyć, że wartości przewidziane przez regresję wielomianową na zbiorze testowym są dużo bardziej \"zbite\" wokół średniej wartości 0 i dużo mocniej przypominają rozkład normalny. Faktycznie jest to więc lepsze dopasowanie niż w przypadku zwykłej regresji."
   ]
  },
  {
   "cell_type": "markdown",
   "metadata": {
    "id": "YtNl2hgYiYK3"
   },
   "source": [
    "### Zadanie 2 - tylko interakcje"
   ]
  },
  {
   "cell_type": "markdown",
   "metadata": {
    "id": "XVTgLy5LiYK3"
   },
   "source": [
    "Na wykładzie powiedzieliśmy, że same feature'y interakcji są często najważniejsze, bo podnoszenie oryginalnych cech do potęgi jest mało sensowne. Popatrz na cechy zbioru Boston Housing i zastanów się, czy jest sens dokonywać takiego obliczenia. Wypróbuj następnie generowanie cech tylko dla cech-interakcji i sprawdź, czy wyniki są lepsze (na zbiorze testowym)."
   ]
  },
  {
   "cell_type": "code",
   "execution_count": 143,
   "metadata": {
    "id": "-Vl9rGN2iYK3"
   },
   "outputs": [
    {
     "name": "stdout",
     "output_type": "stream",
     "text": [
      "Previous number of features: 13\n",
      "Current number of features: 91\n"
     ]
    }
   ],
   "source": [
    "# podnoszenie oryginalnych cech do potęgi zmieniałoby coś gdyby:\n",
    "# a) mean c [0, 1) (wtedy wpływ cechy by malał wraz ze wzrostem potęgi) lub\n",
    "# b) mean < 0 (dla parzystych potęg zmieniałby się znak).\n",
    "# dla naszych danych wpłynęłoby na CHAS oraz NOX (przypadek a).\n",
    "# patrząc po współczynnikach regresji linearyzowanej (CHAS = 0.61, NOX = -1.87) wpływ NOX na wynik nie jest nieznaczny więc podnoszenie oryginalnych cech\n",
    "# do potęgi mogłoby mieć sens\n",
    "poly_features = PolynomialFeatures(degree=2, include_bias=False, interaction_only=True)\n",
    "X_train_poly = poly_features.fit_transform(X_train)\n",
    "X_test_poly = poly_features.fit_transform(X_test)\n",
    "\n",
    "scaler = StandardScaler()\n",
    "scaler.fit(X_train_poly)\n",
    "X_train_poly_rescaled = scaler.transform(X_train_poly)\n",
    "X_test_poly_rescaled = scaler.transform(X_test_poly)\n",
    "\n",
    "print(f\"Previous number of features: {X_train_rescaled.shape[1]}\")\n",
    "print(f\"Current number of features: {X_train_poly_rescaled.shape[1]}\")"
   ]
  },
  {
   "cell_type": "code",
   "execution_count": 144,
   "metadata": {
    "pycharm": {
     "name": "#%%\n"
    }
   },
   "outputs": [
    {
     "name": "stdout",
     "output_type": "stream",
     "text": [
      "RSS: 3252.0575482431464\n",
      "RMSE: 4.625485428467813\n",
      "MAE: 2.9172781170793214\n"
     ]
    }
   ],
   "source": [
    "polynomial_model = LinearRegression(n_jobs=-1)\n",
    "polynomial_model.fit(X_train_poly_rescaled, y_train)\n",
    "\n",
    "y_pred = polynomial_model.predict(X_test_poly_rescaled)\n",
    "n = X_test_poly_rescaled.shape[0]\n",
    "\n",
    "print(f\"RSS: {n * mean_squared_error(y_test, y_pred, squared=True)}\")\n",
    "print(f\"RMSE: {mean_squared_error(y_test, y_pred, squared=False)}\")\n",
    "print(f\"MAE: {mean_absolute_error(y_test, y_pred)}\")"
   ]
  },
  {
   "cell_type": "markdown",
   "metadata": {
    "id": "MCsJ9NZ-iYK3"
   },
   "source": [
    "## Ridge regression - sztuczny przykład w 2D"
   ]
  },
  {
   "cell_type": "markdown",
   "metadata": {
    "id": "yroNZVUpiYK4"
   },
   "source": [
    "W regresji grzbietowej minimalizujemy funkcję:\n",
    "$$C(w) = ||y - \\hat{y}||^2_2 + \\alpha ||w||_2^2$$"
   ]
  },
  {
   "cell_type": "markdown",
   "metadata": {
    "id": "Ri0qqknWiYK4"
   },
   "source": [
    "W tej części tak jak ostatnio wygenerujemy dane według równania $$y = 2x+1 + \\varepsilon $$ Dla utrudnienia zadania dodamy jednak widocznie odstającego outliera. Porównamy, jak z dopasowaniem prostej poradzi sobie nieregularyzowana i regularyzowana (L2) regresja liniowa.\n"
   ]
  },
  {
   "cell_type": "code",
   "execution_count": 145,
   "metadata": {
    "id": "hA6K81YciYK4",
    "outputId": "13414120-0d3b-4fb5-8be8-c15fd141ecf1"
   },
   "outputs": [
    {
     "data": {
      "text/plain": "<matplotlib.collections.PathCollection at 0x7f36a09e5700>"
     },
     "execution_count": 145,
     "metadata": {},
     "output_type": "execute_result"
    },
    {
     "data": {
      "text/plain": "<Figure size 432x288 with 1 Axes>",
      "image/png": "[encoded data removed]"
     },
     "metadata": {
      "needs_background": "light"
     },
     "output_type": "display_data"
    }
   ],
   "source": [
    "n_points = 30\n",
    "x = np.linspace(0, 10, num=n_points).reshape(n_points, 1)\n",
    "y = 2. * x + 1 + np.random.normal(size=(n_points, 1), scale=1)\n",
    "y[-1] = 75\n",
    "\n",
    "plt.scatter(x, y)"
   ]
  },
  {
   "cell_type": "code",
   "execution_count": 146,
   "metadata": {
    "id": "2XuuCpjtiYK4",
    "outputId": "713347b4-604f-448b-f197-eec6c225879a"
   },
   "outputs": [
    {
     "data": {
      "text/plain": "LinearRegression()"
     },
     "execution_count": 146,
     "metadata": {},
     "output_type": "execute_result"
    }
   ],
   "source": [
    "simple_linear_model = LinearRegression()\n",
    "simple_linear_model.fit(x, y)"
   ]
  },
  {
   "cell_type": "markdown",
   "metadata": {
    "id": "xaBumrYLiYK5"
   },
   "source": [
    "Dokładny opis regresora `Ridge` jest niżej, przy sekcji Boston Housing. Tutaj ważne jest tylko, że siła regularyzacji jest oznaczana jako `alpha` (zamiast lambdy jak na wykładzie) - wybieramy jakąś wartość i próbujemy."
   ]
  },
  {
   "cell_type": "code",
   "execution_count": 147,
   "metadata": {
    "id": "MFBaKU5AiYK5",
    "outputId": "55007ea6-247f-4b0a-dad9-8f89369c9829"
   },
   "outputs": [
    {
     "data": {
      "text/plain": "Ridge(alpha=150)"
     },
     "execution_count": 147,
     "metadata": {},
     "output_type": "execute_result"
    }
   ],
   "source": [
    "# dla alpha = 0 jest to zwykła regresja liniowa\n",
    "alpha = 150\n",
    "simple_ridge_model = Ridge(alpha=alpha)\n",
    "simple_ridge_model.fit(x, y)"
   ]
  },
  {
   "cell_type": "code",
   "execution_count": 148,
   "metadata": {
    "id": "DXeLJbg1iYK5",
    "outputId": "3d22a4dc-a441-4adb-f1a2-5ea07cc29939"
   },
   "outputs": [
    {
     "data": {
      "text/plain": "<matplotlib.legend.Legend at 0x7f36a0771610>"
     },
     "execution_count": 148,
     "metadata": {},
     "output_type": "execute_result"
    },
    {
     "data": {
      "text/plain": "<Figure size 432x288 with 1 Axes>",
      "image/png": "[encoded data removed]"
     },
     "metadata": {
      "needs_background": "light"
     },
     "output_type": "display_data"
    }
   ],
   "source": [
    "plt.scatter(x, y)\n",
    "plt.plot(x, simple_linear_model.predict(x), color=\"green\", label='Linear regression')\n",
    "plt.plot(x, simple_ridge_model.predict(x), color=\"red\", label='Ridge regression')\n",
    "plt.legend()"
   ]
  },
  {
   "cell_type": "markdown",
   "metadata": {
    "id": "cWg_BJJjiYK6"
   },
   "source": [
    "Jak widać ridge regression poradziło sobie o wiele lepiej. Wynika to z tego, że zmniejszyła wagę naszej jedynej cechy, czyli współczynnik kierunkowy tej prostej. Co jednak, gdy realnie chcielibyśmy wyższy współczynnik, a nie niższy?"
   ]
  },
  {
   "cell_type": "markdown",
   "metadata": {
    "id": "pMXWBmcuiYK6"
   },
   "source": [
    "### Zadanie 3 - pechowe outliery"
   ]
  },
  {
   "cell_type": "markdown",
   "metadata": {
    "id": "sog2Yf90iYK6"
   },
   "source": [
    "Dodaj outlier jako punkt o dużej wartości na początku, a nie na końcu danych wygenerowanych analogicznie jak w poprzednim przykładzie. Spróbuj następnie wygenerować zarówno linię dla zwykłej regresji, jak i ridge regression dla $\\lambda$ z wartościami 10, 100 i 1000. Czy ridge regression radzi sobie lepiej? Z jak silną regularyzacją najlepiej zaczynać podejście do regresji - w ogóle bez, słabą czy silną?"
   ]
  },
  {
   "cell_type": "code",
   "execution_count": 149,
   "metadata": {
    "id": "ZwfM_URgiYK6"
   },
   "outputs": [
    {
     "name": "stdout",
     "output_type": "stream",
     "text": [
      "alpha = 10\n"
     ]
    },
    {
     "data": {
      "text/plain": "<Figure size 432x288 with 1 Axes>",
      "image/png": "[encoded data removed]"
     },
     "metadata": {
      "needs_background": "light"
     },
     "output_type": "display_data"
    },
    {
     "name": "stdout",
     "output_type": "stream",
     "text": [
      "alpha = 100\n"
     ]
    },
    {
     "data": {
      "text/plain": "<Figure size 432x288 with 1 Axes>",
      "image/png": "[encoded data removed]"
     },
     "metadata": {
      "needs_background": "light"
     },
     "output_type": "display_data"
    },
    {
     "name": "stdout",
     "output_type": "stream",
     "text": [
      "alpha = 1000\n"
     ]
    },
    {
     "data": {
      "text/plain": "<Figure size 432x288 with 1 Axes>",
      "image/png": "[encoded data removed]"
     },
     "metadata": {
      "needs_background": "light"
     },
     "output_type": "display_data"
    }
   ],
   "source": [
    "def compare_linear_ridge(alpha, x, y):\n",
    "    simple_linear_model = LinearRegression()\n",
    "    simple_linear_model.fit(x, y)\n",
    "\n",
    "    simple_ridge_model = Ridge(alpha=alpha)\n",
    "    simple_ridge_model.fit(x, y)\n",
    "\n",
    "    print(f\"alpha = {alpha}\")\n",
    "    plt.scatter(x, y)\n",
    "    plt.plot(x, simple_linear_model.predict(x), color=\"green\", label='Linear regression')\n",
    "    plt.plot(x, simple_ridge_model.predict(x), color=\"red\", label='Ridge regression')\n",
    "    plt.legend()\n",
    "    plt.show()\n",
    "\n",
    "\n",
    "n_points = 30\n",
    "x = np.linspace(0, 10, num=n_points).reshape(n_points, 1)\n",
    "y = 2. * x + 1 + np.random.normal(size=(n_points, 1), scale=1)\n",
    "y[0] = 7500\n",
    "for alpha in [10, 100, 1000]:\n",
    "    compare_linear_ridge(alpha, x, y)"
   ]
  },
  {
   "cell_type": "markdown",
   "metadata": {
    "id": "EOWl_jYmiYK6"
   },
   "source": [
    "## Ridge regression - Boston Housing dataset"
   ]
  },
  {
   "cell_type": "markdown",
   "metadata": {
    "id": "jiGEK7ekiYK7"
   },
   "source": [
    "Teraz wykorzystamy regresor `Ridge` dla regularyzowanej regresji liniowej dla naszego zbioru danych.\n",
    "\n",
    "Najważniejsze argumenty `Ridge`:\n",
    "\n",
    "1) `alpha=1` - siła regularyzacji\n",
    "\n",
    "2) `fit_intercept=True` - czy dodawać wyraz wolny (bias, intercept)? Dla danych wycentrowanych ustawiamy na `False`\n",
    "\n",
    "3) `normalize=False` - czy normalizować dane? Normalizacja tutaj jest w takim sensie, jak na wykładzie, tj. usuwa wartość średnią z każdej kolumny i dzieli ją przez jej długość, normalizując ją do 1\n",
    "\n",
    "4) `copy_X=True` - czy kopiować macierz X? Jeżeli jest `False`, to przekazana do treningu macierz `X` może zostać nadpisana dla wydajności\n",
    "\n",
    "5) `max_iter=None`, `tol=1e-3` - parametry kontrolujące koniec iteracji dla solwerów iteracyjnych (zakładamy, że skończyliśmy optymalizować, gdy którykolwiek z warunków będzie osiągnięty); dla solwerów nie-iteracyjnych (np. \"svd\") znaczenie ma tylko `tol`, bo wyznacza precyzję rozwiązania\n",
    "\n",
    "6) `solver=\"auto\"` - rodzaj algorytmu (solwera) do użycia; jeżeli nie mamy jakichś wyraźnych potrzeb, to opcja `\"auto\"` sprawdza się bardzo dobrze, bo Scikit-learn sprawdza nasze dane i na ich podstawie stara się dobrać optymalny algorytm\n",
    "\n",
    "7) `random_state=None` - jeżeli używamy solwera z elementami pseudolosowymi (SAG lub SAGA), to ustawiamy tu jakąś liczbę dla powtarzalności wyników"
   ]
  },
  {
   "cell_type": "markdown",
   "metadata": {
    "id": "ZDdhIoG2iYK7"
   },
   "source": [
    "Zróbmy przykładowe ridge regression dla słabej regularyzacji i zobaczmy, jakie nam wyjdą metryki."
   ]
  },
  {
   "cell_type": "code",
   "execution_count": 150,
   "metadata": {
    "id": "ZEt1xIBIiYK7",
    "outputId": "b3b667b9-3bf9-45a0-a96a-72713c27f8eb"
   },
   "outputs": [
    {
     "data": {
      "text/plain": "Ridge(alpha=10)"
     },
     "execution_count": 150,
     "metadata": {},
     "output_type": "execute_result"
    }
   ],
   "source": [
    "alpha = 10\n",
    "ridge_model = Ridge(alpha=alpha)\n",
    "ridge_model.fit(X_train_rescaled, y_train)"
   ]
  },
  {
   "cell_type": "code",
   "execution_count": 151,
   "metadata": {
    "id": "CdGBNvc3iYK8",
    "outputId": "32f7e7d8-3bc4-45cb-b1d5-c56d58f1541b"
   },
   "outputs": [
    {
     "name": "stdout",
     "output_type": "stream",
     "text": [
      "RSS: 4208.683108279316\n",
      "RMSE: 5.262005763939483\n",
      "MAE: 3.6083150932386863\n"
     ]
    }
   ],
   "source": [
    "y_pred = ridge_model.predict(X_test_rescaled)\n",
    "n = X_test_rescaled.shape[0]\n",
    "\n",
    "print(f\"RSS: {n * mean_squared_error(y_test, y_pred, squared=True)}\")\n",
    "print(f\"RMSE: {mean_squared_error(y_test, y_pred, squared=False)}\")\n",
    "print(f\"MAE: {mean_absolute_error(y_test, y_pred)}\")"
   ]
  },
  {
   "cell_type": "markdown",
   "metadata": {
    "id": "rv0n-A27iYK8"
   },
   "source": [
    "Nie jest za dobrze - wyniki są lekko gorsze niż dla zwykłej regresji, a dużo gorsze niż dla wielomianowej. Może jednak nasza regularyzacja jest zbyt słaba? Sprawdźmy współczynniki dla poszczególnych cech."
   ]
  },
  {
   "cell_type": "code",
   "execution_count": 152,
   "metadata": {
    "id": "H2RitpWsiYK8",
    "outputId": "5cccc085-ddff-46cf-e1a4-3e210b6654b8"
   },
   "outputs": [
    {
     "name": "stdout",
     "output_type": "stream",
     "text": [
      "Intercept: 22.745480225988754\n"
     ]
    },
    {
     "data": {
      "text/plain": "         Coefficient\nCRIM       -0.933398\nZN          0.901779\nINDUS      -0.130099\nCHAS        0.653141\nNOX        -1.554675\nRM          2.780153\nAGE        -0.318141\nDIS        -2.751812\nRAD         1.470846\nTAX        -1.327215\nPTRATIO    -2.183673\nB           0.586609\nLSTAT      -3.297412",
      "text/html": "<div>\n<style scoped>\n    .dataframe tbody tr th:only-of-type {\n        vertical-align: middle;\n    }\n\n    .dataframe tbody tr th {\n        vertical-align: top;\n    }\n\n    .dataframe thead th {\n        text-align: right;\n    }\n</style>\n<table border=\"1\" class=\"dataframe\">\n  <thead>\n    <tr style=\"text-align: right;\">\n      <th></th>\n      <th>Coefficient</th>\n    </tr>\n  </thead>\n  <tbody>\n    <tr>\n      <th>CRIM</th>\n      <td>-0.933398</td>\n    </tr>\n    <tr>\n      <th>ZN</th>\n      <td>0.901779</td>\n    </tr>\n    <tr>\n      <th>INDUS</th>\n      <td>-0.130099</td>\n    </tr>\n    <tr>\n      <th>CHAS</th>\n      <td>0.653141</td>\n    </tr>\n    <tr>\n      <th>NOX</th>\n      <td>-1.554675</td>\n    </tr>\n    <tr>\n      <th>RM</th>\n      <td>2.780153</td>\n    </tr>\n    <tr>\n      <th>AGE</th>\n      <td>-0.318141</td>\n    </tr>\n    <tr>\n      <th>DIS</th>\n      <td>-2.751812</td>\n    </tr>\n    <tr>\n      <th>RAD</th>\n      <td>1.470846</td>\n    </tr>\n    <tr>\n      <th>TAX</th>\n      <td>-1.327215</td>\n    </tr>\n    <tr>\n      <th>PTRATIO</th>\n      <td>-2.183673</td>\n    </tr>\n    <tr>\n      <th>B</th>\n      <td>0.586609</td>\n    </tr>\n    <tr>\n      <th>LSTAT</th>\n      <td>-3.297412</td>\n    </tr>\n  </tbody>\n</table>\n</div>"
     },
     "execution_count": 152,
     "metadata": {},
     "output_type": "execute_result"
    }
   ],
   "source": [
    "print(f\"Intercept: {ridge_model.intercept_}\")\n",
    "coeff_names = boston_df.keys()\n",
    "\n",
    "coeff_df = pd.DataFrame(ridge_model.coef_, coeff_names, columns=[\"Coefficient\"])\n",
    "coeff_df"
   ]
  },
  {
   "cell_type": "markdown",
   "metadata": {
    "id": "kIesPpbNiYK8"
   },
   "source": [
    "Faktycznie wartości współczynników niewiele się zmieniły, więc nasza regularyzacja jest dość słaba. Może więc silniejsza regularyzacja bardziej pomoże?"
   ]
  },
  {
   "cell_type": "markdown",
   "metadata": {
    "id": "X7YidfmoiYK8"
   },
   "source": [
    "### Zadanie 4 - wpływ regularyzacji L2 na wyniki"
   ]
  },
  {
   "cell_type": "markdown",
   "metadata": {
    "id": "zvFWaUZPiYK9"
   },
   "source": [
    "Stwórz wykres zależności wybranej metryki (np. RMSE lub MAE, bo są małe i czytelne) od współczynnika siły regularyzacji `alpha`. Metrykę mierzymy na zbiorze  Wypróbuj wartości od braku (`alpha=0`) do dość mocnej (`alpha=1000`) z krokiem np. 10 (jeżeli moc obliczeniowa na to nie pozwoli, to np. krok 50). Wykonaj to na zbiorze testowym - dzięki temu faktycznie znajdziemy optymalną siłę regularyzacji dla tego zbioru. Czy nasze podejrzenie zbyt słabej regularyzacji okazało się słuszne?"
   ]
  },
  {
   "cell_type": "code",
   "execution_count": 153,
   "metadata": {
    "pycharm": {
     "name": "#%%\n"
    }
   },
   "outputs": [
    {
     "name": "stdout",
     "output_type": "stream",
     "text": [
      "MAE: min error = 3.6035306953357242, alpha = 30\n"
     ]
    },
    {
     "data": {
      "text/plain": "<Figure size 432x288 with 1 Axes>",
      "image/png": "[encoded data removed]"
     },
     "metadata": {
      "needs_background": "light"
     },
     "output_type": "display_data"
    }
   ],
   "source": [
    "def get_error_for_alpha(model_class, alpha, X_train_rescaled, y_train, X_test_rescaled, y_test):\n",
    "    model = model_class(alpha=alpha)\n",
    "    model.fit(X_train_rescaled, y_train)\n",
    "    y_pred = model.predict(X_test_rescaled)\n",
    "\n",
    "    return mean_absolute_error(y_test, y_pred)\n",
    "\n",
    "\n",
    "def find_min_error_and_plot(model_class, alpha_iter, X_train_rescaled, y_train, X_test_rescaled, y_test):\n",
    "    min_error = float('inf')\n",
    "    min_error_alpha = -1\n",
    "    for alpha in alpha_iter:\n",
    "        error = get_error_for_alpha(model_class, alpha, X_train_rescaled, y_train, X_test_rescaled, y_test)\n",
    "\n",
    "        if error < min_error:\n",
    "            min_error = error\n",
    "            min_error_alpha = alpha\n",
    "\n",
    "        plt.plot(alpha, error, 'o', color='orange', markersize=2)\n",
    "\n",
    "    print(f'MAE: min error = {min_error}, alpha = {min_error_alpha}')\n",
    "\n",
    "\n",
    "find_min_error_and_plot(Ridge, range(0, 1000+1, 10), X_train_rescaled, y_train, X_test_rescaled, y_test)\n",
    "\n",
    "# regularyzacja nie była zbyt słaba, jak widać dla wyższych wartości współczynnika alpha błędy rosną"
   ]
  },
  {
   "cell_type": "markdown",
   "metadata": {
    "id": "Y9KyPalciYK9"
   },
   "source": [
    "### Zadanie 5 - optymalizacja z `GridSearchCV`"
   ]
  },
  {
   "cell_type": "markdown",
   "metadata": {
    "id": "HZMF4Rd2iYK9"
   },
   "source": [
    "Wypróbuj [GridSearchCV](https://scikit-learn.org/stable/modules/generated/sklearn.model_selection.GridSearchCV.html) dla optymalizacji współczynnika `alpha`. Dzięki temu obiektowi automatycznie zostanie wykonana walidacja skrośna (a zatem i generowanie kolejnych zbiorów walidacyjnych i uśrednianie wyników), jak i sprawdzenie po kolei przekazanych wartości hiperparametrów.\n",
    "\n",
    "Wygeneruj takie same współczynniki `alpha`, jak w zadaniu 4, czyli np. listę z elementami od 0 do 1000 włącznie co 10. Twój estymator to po prostu `Ridge()` (`GridSearchCV` potem sam ustawi odpowiednie hiperparametry), `param_grid` to słownik z tylko jednym kluczem `alpha` i wartością będącą przygotowaną listą wartości. Pamiętaj o ustawieniu `n_jobs=-1`, aby wykorzystać wszystkie rdzenie procesora - optymalizacja `GridSearchCV` jest uwspółbieżnialna praktycznie w 100%.\n",
    "\n",
    "Na koniec w obiekcie `GridSearchCV` w atrybucie `best_estimator_` znajduje się nasz ridge regressor z najlepszymi wynikami, a w słowniku `best_params_` optymalne wartości hiperparametrów. Sprawdź, czy wyniki (metryka ta sama co w zadaniu 4 i wartość `alpha`) zgadzają się z zadaniem 4."
   ]
  },
  {
   "cell_type": "code",
   "execution_count": 154,
   "metadata": {
    "id": "pZYbAvIhiYK9"
   },
   "outputs": [
    {
     "name": "stdout",
     "output_type": "stream",
     "text": [
      "MAE: min error = 3.604923178717287, alpha = 20\n"
     ]
    }
   ],
   "source": [
    "from sklearn.model_selection import GridSearchCV\n",
    "\n",
    "\n",
    "grid_search_cv = GridSearchCV(estimator=Ridge(), param_grid={'alpha': list(range(0, 1000+1, 10))}, n_jobs=-1)\n",
    "grid_search_cv.fit(X_train_rescaled, y_train)\n",
    "\n",
    "y_pred = grid_search_cv.predict(X_test_rescaled)\n",
    "mae = mean_absolute_error(y_test, y_pred)\n",
    "print(f'MAE: min error = {mae}, alpha = {grid_search_cv.best_params_[\"alpha\"]}')\n",
    "\n",
    "# wyniki minimalnie się różnią, może być to spowodowane wykonaną walidacją skrośną (w zad 4 jej nie wykonywaliśmy)"
   ]
  },
  {
   "cell_type": "markdown",
   "metadata": {
    "id": "H_p982oWiYK9"
   },
   "source": [
    "### Zadanie 6 - wagi po regularyzacji"
   ]
  },
  {
   "cell_type": "markdown",
   "metadata": {
    "id": "I_bsePyfiYK-"
   },
   "source": [
    "Dla najlepszego estymatora wyznaczonego w poprzednim zadaniu sprawdź wagi współczynników, podobnie jak w pokazanych wcześniej przykładach. Czy są mniejsze niż dla wybranego dość losowo `alpha=10`?"
   ]
  },
  {
   "cell_type": "code",
   "execution_count": 155,
   "metadata": {
    "id": "uKZs3KcwiYK-"
   },
   "outputs": [
    {
     "data": {
      "text/plain": "         Coefficient\nCRIM       -0.882331\nZN          0.807787\nINDUS      -0.237530\nCHAS        0.670024\nNOX        -1.334301\nRM          2.812997\nAGE        -0.332453\nDIS        -2.480130\nRAD         1.125730\nTAX        -1.052513\nPTRATIO    -2.125110\nB           0.590350\nLSTAT      -3.179811",
      "text/html": "<div>\n<style scoped>\n    .dataframe tbody tr th:only-of-type {\n        vertical-align: middle;\n    }\n\n    .dataframe tbody tr th {\n        vertical-align: top;\n    }\n\n    .dataframe thead th {\n        text-align: right;\n    }\n</style>\n<table border=\"1\" class=\"dataframe\">\n  <thead>\n    <tr style=\"text-align: right;\">\n      <th></th>\n      <th>Coefficient</th>\n    </tr>\n  </thead>\n  <tbody>\n    <tr>\n      <th>CRIM</th>\n      <td>-0.882331</td>\n    </tr>\n    <tr>\n      <th>ZN</th>\n      <td>0.807787</td>\n    </tr>\n    <tr>\n      <th>INDUS</th>\n      <td>-0.237530</td>\n    </tr>\n    <tr>\n      <th>CHAS</th>\n      <td>0.670024</td>\n    </tr>\n    <tr>\n      <th>NOX</th>\n      <td>-1.334301</td>\n    </tr>\n    <tr>\n      <th>RM</th>\n      <td>2.812997</td>\n    </tr>\n    <tr>\n      <th>AGE</th>\n      <td>-0.332453</td>\n    </tr>\n    <tr>\n      <th>DIS</th>\n      <td>-2.480130</td>\n    </tr>\n    <tr>\n      <th>RAD</th>\n      <td>1.125730</td>\n    </tr>\n    <tr>\n      <th>TAX</th>\n      <td>-1.052513</td>\n    </tr>\n    <tr>\n      <th>PTRATIO</th>\n      <td>-2.125110</td>\n    </tr>\n    <tr>\n      <th>B</th>\n      <td>0.590350</td>\n    </tr>\n    <tr>\n      <th>LSTAT</th>\n      <td>-3.179811</td>\n    </tr>\n  </tbody>\n</table>\n</div>"
     },
     "execution_count": 155,
     "metadata": {},
     "output_type": "execute_result"
    }
   ],
   "source": [
    "coeff_df = pd.DataFrame(grid_search_cv.best_estimator_.coef_, coeff_names, columns=[\"Coefficient\"])\n",
    "coeff_df\n",
    "\n",
    "# rozważając abs z wartości współczynników są one mniejsze niż dla alpha=10"
   ]
  },
  {
   "cell_type": "markdown",
   "metadata": {
    "id": "HN6aq2mgiYK-"
   },
   "source": [
    "## Lasso regression - sztuczny przykład w 2D"
   ]
  },
  {
   "cell_type": "markdown",
   "metadata": {
    "id": "zSxcMNoziYK-"
   },
   "source": [
    "Dla przypomnienia, w regresji lasso minimalizujemy funkcję:\n",
    "$$C(w) = ||y - \\hat{y}||^2_2 + \\alpha ||w||_1$$"
   ]
  },
  {
   "cell_type": "markdown",
   "metadata": {
    "id": "NmYOmNjkiYK-"
   },
   "source": [
    "#### Sztuczny przykład w 2D"
   ]
  },
  {
   "cell_type": "markdown",
   "metadata": {
    "id": "bMC3hyEUiYK-"
   },
   "source": [
    "... brak przykładu!"
   ]
  },
  {
   "cell_type": "markdown",
   "metadata": {
    "id": "eqgxVfHjiYK-"
   },
   "source": [
    "### Zadanie 7 - regresja lasso dla 1 zmiennej"
   ]
  },
  {
   "cell_type": "markdown",
   "metadata": {
    "id": "wUgIslyviYK_"
   },
   "source": [
    "Czemu regresja lasso dla 1 zmiennej nie ma za bardzo sensu?"
   ]
  },
  {
   "cell_type": "markdown",
   "metadata": {
    "id": "XV9ZxgbbiYK_"
   },
   "source": [
    "Kierując się interpretacją graficzną:\n",
    "- dla 3 zmiennych szukamy optymalnego punktu przecięcia się dwóch brył,\n",
    "- dla 2 zmiennych szukamy optymalnego punktu przecięcia się dwóch figur płaskich,\n",
    "- dla 1 zmiennej powinniśmy więc szukać optymalnego punktu przecięcia się dwóch odcinków.\n",
    "\n",
    "Wydaje mi się, że można rozwiązać ten problem w prostszy sposób: wyznaczyć część wspólną, jej środek jest rozwiązaniem."
   ]
  },
  {
   "cell_type": "markdown",
   "metadata": {
    "id": "hvztsQiSiYK_"
   },
   "source": [
    "## Lasso regression - Boston Housing dataset"
   ]
  },
  {
   "cell_type": "markdown",
   "metadata": {
    "id": "1k1ndgyLiYK_"
   },
   "source": [
    "Wyróbujmy teraz lasso regression na zbiorze danych. Zmiennych jest tu sporo, jak podejrzewamy niektóre z nich są niepotrzebne, więc faktycznie LASSO może nam pomóc z automatycznym feature selection.\n",
    "\n",
    "Ważne argumenty regresora `Lasso`:\n",
    "\n",
    "1) `alpha=1`, `fit_intercept=True`, `normalize=False`, `copy_X=True` - dokładnie tak jak wcześniej\n",
    "\n",
    "2) `max_iter=1000`, `tol=1e-4` - analogicznie jak wcześniej kontroluje warunek końca iteracji; w przypadku regresji LASSO używany algorytm coordinate descent jest iteracyjny, więc tutaj te współczynniki mają często znaczenie\n",
    "\n",
    "3) `positive=False` - kiedy jest `True`, to wymuszamy nieujemne wartości współczynników; jest to sensowne, gdy z natury problemu oczekujemy, że nasze cechy będą tylko zwiększać trend regresji, np. w ekonomii (gdy wiemy z pewnych praw i teorii, że tak powinno być)\n",
    "\n",
    "4) `random_state` - szczególnie ważne, żeby je ustawić, bo coordinate descent zaczyna z pseudolosowego miejsca, wyznaczanego przez tę liczbę\n",
    "\n",
    "5) `selection=\"cyclic\"` - albo `\"cyclic\"`, albo `\"random\"`, steruje zachowaniem coordinate descentu; według dokumentacji `\"random\"` może być często szybkie, szczególnie dla dość dużej toleracji (`> 1e-4`)"
   ]
  },
  {
   "cell_type": "code",
   "execution_count": 156,
   "metadata": {
    "id": "sC-JXPvIiYK_",
    "outputId": "a22fd433-90f6-48b6-c90d-102f0814de11"
   },
   "outputs": [
    {
     "data": {
      "text/plain": "Lasso(alpha=1)"
     },
     "execution_count": 156,
     "metadata": {},
     "output_type": "execute_result"
    }
   ],
   "source": [
    "alpha = 1\n",
    "lasso_model = Lasso(alpha=alpha)\n",
    "lasso_model.fit(X_train_rescaled, y_train)"
   ]
  },
  {
   "cell_type": "code",
   "execution_count": 157,
   "metadata": {
    "id": "8JCYlF5biYLA",
    "outputId": "0091e487-9807-4439-a022-91ca369bd675"
   },
   "outputs": [
    {
     "name": "stdout",
     "output_type": "stream",
     "text": [
      "RSS: 5063.247507807562\n",
      "RMSE: 5.771554285212521\n",
      "MAE: 3.957998413357712\n"
     ]
    }
   ],
   "source": [
    "y_pred = lasso_model.predict(X_test_rescaled)\n",
    "n = X_test_rescaled.shape[0]\n",
    "\n",
    "print(f\"RSS: {n * mean_squared_error(y_test, y_pred, squared=True)}\")\n",
    "print(f\"RMSE: {mean_squared_error(y_test, y_pred, squared=False)}\")\n",
    "print(f\"MAE: {mean_absolute_error(y_test, y_pred)}\")"
   ]
  },
  {
   "cell_type": "markdown",
   "metadata": {
    "id": "KTzsZwueiYLA"
   },
   "source": [
    "Błędy są dość wysokie - może usunęliśmy za dużo / za mało cech?"
   ]
  },
  {
   "cell_type": "code",
   "execution_count": 158,
   "metadata": {
    "id": "dg5wCBueiYLA",
    "outputId": "ca849a64-cf10-47a7-808d-050e3b59a9e1"
   },
   "outputs": [
    {
     "name": "stdout",
     "output_type": "stream",
     "text": [
      "Intercept: 22.74548022598875\n"
     ]
    },
    {
     "data": {
      "text/plain": "         Coefficient\nCRIM       -0.034090\nZN          0.000000\nINDUS      -0.000000\nCHAS        0.000000\nNOX        -0.000000\nRM          2.675475\nAGE        -0.000000\nDIS        -0.000000\nRAD        -0.000000\nTAX        -0.119743\nPTRATIO    -1.784836\nB           0.002440\nLSTAT      -3.404284",
      "text/html": "<div>\n<style scoped>\n    .dataframe tbody tr th:only-of-type {\n        vertical-align: middle;\n    }\n\n    .dataframe tbody tr th {\n        vertical-align: top;\n    }\n\n    .dataframe thead th {\n        text-align: right;\n    }\n</style>\n<table border=\"1\" class=\"dataframe\">\n  <thead>\n    <tr style=\"text-align: right;\">\n      <th></th>\n      <th>Coefficient</th>\n    </tr>\n  </thead>\n  <tbody>\n    <tr>\n      <th>CRIM</th>\n      <td>-0.034090</td>\n    </tr>\n    <tr>\n      <th>ZN</th>\n      <td>0.000000</td>\n    </tr>\n    <tr>\n      <th>INDUS</th>\n      <td>-0.000000</td>\n    </tr>\n    <tr>\n      <th>CHAS</th>\n      <td>0.000000</td>\n    </tr>\n    <tr>\n      <th>NOX</th>\n      <td>-0.000000</td>\n    </tr>\n    <tr>\n      <th>RM</th>\n      <td>2.675475</td>\n    </tr>\n    <tr>\n      <th>AGE</th>\n      <td>-0.000000</td>\n    </tr>\n    <tr>\n      <th>DIS</th>\n      <td>-0.000000</td>\n    </tr>\n    <tr>\n      <th>RAD</th>\n      <td>-0.000000</td>\n    </tr>\n    <tr>\n      <th>TAX</th>\n      <td>-0.119743</td>\n    </tr>\n    <tr>\n      <th>PTRATIO</th>\n      <td>-1.784836</td>\n    </tr>\n    <tr>\n      <th>B</th>\n      <td>0.002440</td>\n    </tr>\n    <tr>\n      <th>LSTAT</th>\n      <td>-3.404284</td>\n    </tr>\n  </tbody>\n</table>\n</div>"
     },
     "execution_count": 158,
     "metadata": {},
     "output_type": "execute_result"
    }
   ],
   "source": [
    "print(f\"Intercept: {lasso_model.intercept_}\")\n",
    "\n",
    "coeff_df = pd.DataFrame(lasso_model.coef_, coeff_names, columns=[\"Coefficient\"])\n",
    "coeff_df"
   ]
  },
  {
   "cell_type": "markdown",
   "metadata": {
    "id": "9DxbEqMBiYLA"
   },
   "source": [
    "Co prawda 13 cech to sporo, ale usunięcie aż 7 z nich i zmniejszenie wagi ósmego prawie do 0 to chyba jednak przesada. Jak widać, dla regresji lasso wartość współczynnika `alpha` powinna być raczej bardzo mała. Ale jaka dokładnie?"
   ]
  },
  {
   "cell_type": "markdown",
   "metadata": {
    "id": "jr5IxdEtiYLA"
   },
   "source": [
    "### Zadanie 8 - hiperparametry z przestrzeni ciągłych"
   ]
  },
  {
   "cell_type": "markdown",
   "metadata": {
    "id": "ayPb289liYLB"
   },
   "source": [
    "Znajdź optymalną wartość współczynnika `alpha` dla regresji lasso. Zauważ przy tym, że interesują nas ułamkowe wartości, więc zwykłe generowanie listy z Pythona nie wystarczy. Za to Numpy ma funkcję `np.linspace()`, która pozwala wygenerować listę równomiernie rozłożonych wartości z określonego zakresu, przy czym mogą to być też liczby zmiennoprzecinkowe. Efektywnie tworzy to dyskretny jednostajny rozkład prawdopodobieństwa.\n",
    "\n",
    "Ważne argumenty funkcji `np.linspace()` to `start`, `stop`, `endpoint`, `num` i `retstep`. Dla `endpoint=False` generujemy w zakresie `[start, stop)`, natomiast dla `endpoint=True` w zakresie `[start, stop]` (i koniec zawsze jest dołączany do wygenerowanego zakresu jako ostatni punkt). Możemy wybrać albo liczbę punktów do wygenerowania za pomocą `num`, albo krok `retstep` co jaką odległość będziemy generować - korzystamy z tego, co jest akurat wygodniejsze, można w końcu łatwo przeliczyć jedno na drugie i vice versa.\n",
    "\n",
    "Skoro mamy tutaj dyskretny rozkład prawdopodobieństwa, to może być potrzeba przeszukać sporo opcji, a `GridSearchCV` może być dość wolny. Zamiat tego możemy wykorzystać `RandomizedSearchCV` z odpowiednią liczbą `n_iter`, czyli prób, np. 100.\n",
    "\n",
    "Stwórz `np.linspace()` z `num=10000`. Sprawdź metryki oraz czasy wykonania dla `n_iter` z listy `[10, 100, 1000]` - jak zachowują się jakość i czas? Do mierzenia czasu użyj funkcji `time` z modułu wbudowanego `time`."
   ]
  },
  {
   "cell_type": "code",
   "execution_count": 159,
   "metadata": {
    "id": "djwbknixiYLB"
   },
   "outputs": [
    {
     "name": "stdout",
     "output_type": "stream",
     "text": [
      "n_iter = 10, MAE = 3.6083933081160136, alpha = 0.04101369036903691\n",
      "n_iter = 100, MAE = 3.6083972961037003, alpha = 0.04141372637263727\n",
      "n_iter = 1000, MAE = 3.6083797330511884, alpha = 0.03931353735373538\n"
     ]
    }
   ],
   "source": [
    "from sklearn.model_selection import RandomizedSearchCV\n",
    "\n",
    "for n_iter_val in [10, 100, 1000]:\n",
    "    randomized_search_cv = RandomizedSearchCV(estimator=Lasso(), param_distributions={'alpha': np.linspace(0.00001, 1, num=10000)}, n_jobs=-1, n_iter=100)\n",
    "    randomized_search_cv.fit(X_train_rescaled, y_train)\n",
    "\n",
    "    y_pred = randomized_search_cv.predict(X_test_rescaled)\n",
    "    mae = mean_absolute_error(y_test, y_pred)\n",
    "    print(f'n_iter = {n_iter_val}, MAE = {mae}, alpha = {randomized_search_cv.best_params_[\"alpha\"]}')"
   ]
  },
  {
   "cell_type": "markdown",
   "metadata": {
    "id": "mCtn7o9eiYLB"
   },
   "source": [
    "Jaka wartość `alpha` jest optymalna (według `GridSearchCV`)? Ile cech jest \"wyzerowanych\"? Które to cechy? Czy nasze wcześniejsze podejrzenia okazały się słuszne?"
   ]
  },
  {
   "cell_type": "code",
   "execution_count": 160,
   "metadata": {
    "id": "r5ck4z89iYLB"
   },
   "outputs": [
    {
     "name": "stdout",
     "output_type": "stream",
     "text": [
      "MAE: min error = 3.6084042750821523, alpha = 0.0421137893789379\n"
     ]
    },
    {
     "data": {
      "text/plain": "         Coefficient\nCRIM       -0.886525\nZN          0.902564\nINDUS      -0.000000\nCHAS        0.613549\nNOX        -1.688612\nRM          2.758802\nAGE        -0.200709\nDIS        -2.785496\nRAD         1.475309\nTAX        -1.356453\nPTRATIO    -2.218108\nB           0.535829\nLSTAT      -3.465780",
      "text/html": "<div>\n<style scoped>\n    .dataframe tbody tr th:only-of-type {\n        vertical-align: middle;\n    }\n\n    .dataframe tbody tr th {\n        vertical-align: top;\n    }\n\n    .dataframe thead th {\n        text-align: right;\n    }\n</style>\n<table border=\"1\" class=\"dataframe\">\n  <thead>\n    <tr style=\"text-align: right;\">\n      <th></th>\n      <th>Coefficient</th>\n    </tr>\n  </thead>\n  <tbody>\n    <tr>\n      <th>CRIM</th>\n      <td>-0.886525</td>\n    </tr>\n    <tr>\n      <th>ZN</th>\n      <td>0.902564</td>\n    </tr>\n    <tr>\n      <th>INDUS</th>\n      <td>-0.000000</td>\n    </tr>\n    <tr>\n      <th>CHAS</th>\n      <td>0.613549</td>\n    </tr>\n    <tr>\n      <th>NOX</th>\n      <td>-1.688612</td>\n    </tr>\n    <tr>\n      <th>RM</th>\n      <td>2.758802</td>\n    </tr>\n    <tr>\n      <th>AGE</th>\n      <td>-0.200709</td>\n    </tr>\n    <tr>\n      <th>DIS</th>\n      <td>-2.785496</td>\n    </tr>\n    <tr>\n      <th>RAD</th>\n      <td>1.475309</td>\n    </tr>\n    <tr>\n      <th>TAX</th>\n      <td>-1.356453</td>\n    </tr>\n    <tr>\n      <th>PTRATIO</th>\n      <td>-2.218108</td>\n    </tr>\n    <tr>\n      <th>B</th>\n      <td>0.535829</td>\n    </tr>\n    <tr>\n      <th>LSTAT</th>\n      <td>-3.465780</td>\n    </tr>\n  </tbody>\n</table>\n</div>"
     },
     "execution_count": 160,
     "metadata": {},
     "output_type": "execute_result"
    }
   ],
   "source": [
    "from sklearn.model_selection import GridSearchCV\n",
    "\n",
    "\n",
    "grid_search_cv = GridSearchCV(estimator=Lasso(), param_grid={'alpha': np.linspace(0.00001, 1, num=10000)}, n_jobs=-1)\n",
    "grid_search_cv.fit(X_train_rescaled, y_train)\n",
    "\n",
    "y_pred = grid_search_cv.predict(X_test_rescaled)\n",
    "mae = mean_absolute_error(y_test, y_pred)\n",
    "print(f'MAE: min error = {mae}, alpha = {grid_search_cv.best_params_[\"alpha\"]}')\n",
    "\n",
    "coeff_df = pd.DataFrame(grid_search_cv.best_estimator_.coef_, coeff_names, columns=[\"Coefficient\"])\n",
    "coeff_df\n",
    "\n",
    "# wyzerowane cechy: INDUS\n",
    "# podejrzenia okazały się słuszne, poprzednie wyzerowaliśmy znacznie większą ilość cech i uzyskaliśmy większy błąd MAE.\n",
    "# wybrany przedział wraz z krokiem również wydają się być odpowiednie"
   ]
  },
  {
   "cell_type": "markdown",
   "metadata": {
    "id": "aO5GnY7ciYLB"
   },
   "source": [
    "### Zadanie 9* - próbkowanie z rozkładów prawdopodobieństwa"
   ]
  },
  {
   "cell_type": "markdown",
   "metadata": {
    "id": "px1ubn9niYLB"
   },
   "source": [
    "To zadanie możesz potraktować jako trochę dodatkowe.\n",
    "\n",
    "Kiedy wiemy, że raczej interesują nas małe wartości, to lepiej wykorzystać rozkład log-normalny, a nie jednostajny czy normalny. Rozkład ten silnie faworyzuje mniejsze wartości, patrz np. [wykresy stąd](https://scikit-learn.org/0.22/auto_examples/compose/plot_transformed_target.html). `RandomizedSearchCV` musi dostać albo listę, albo rozkład prawdopodobieństwa z Numpy'a / Scipy'a, który może próbkować (metoda `.rvs()`), dlatego można użyć rozkładu log-normal. Można oczywiście też po prostu wygenerować listę z elementami z rozkładu i taką listę przekazać - efektywnie będzie to praktycznie to samo.\n",
    "\n",
    "Stwórz rozkład log-normal i z użyciem jego i `RandomizedSearchCV` zoptymalizuj regresję Lasso. Możesz albo wykorzystać Scipy'a i jego rozkład prawdopodobieństwa `sp.stats.lognorm()`, albo wygenerować listę elementów Numpy'em i jego funkcją `np.random.lognormal()`. Czy w ten sposób wystarczy mniej prób `n_iter`, aby osiągnąć zadowalające rezultaty?"
   ]
  },
  {
   "cell_type": "code",
   "execution_count": 160,
   "metadata": {
    "id": "dPY1DGoviYLC"
   },
   "outputs": [],
   "source": []
  },
  {
   "cell_type": "markdown",
   "metadata": {
    "id": "I4OYxdV6iYLC"
   },
   "source": [
    "## ElasticNet regression - Boston Housing dataset"
   ]
  },
  {
   "cell_type": "markdown",
   "metadata": {
    "id": "YhAhAJgtiYLC"
   },
   "source": [
    "W regresji ElasticNet minimalizujemy funkcję będącą połączeniem regularyzacji L2 i L1:\n",
    "$$C(w) = ||y - \\hat{y}||^2_2 + \\alpha ||w||_2^2 + \\beta ||w||_1$$"
   ]
  },
  {
   "cell_type": "markdown",
   "metadata": {
    "id": "_-e2Hk_5iYLC"
   },
   "source": [
    "W Scikit-learn'ie obiekt `ElasticNet` jest dość dziwny pod względem siły regularyzacji, bo optymalizuje on (wbrew typowej konwencji z wykładu) funkcję:\n",
    "$$C(w) = \\frac{1}{2 * \\text{n_samples}}||y - \\hat{y}||^2_2 + 0.5 * \\alpha * (1 - \\text{l1_ratio}) * ||w||_2^2 $$\n",
    "$$+ \\alpha * \\text{l1_ratio} * ||w||_1$$"
   ]
  },
  {
   "cell_type": "markdown",
   "metadata": {
    "id": "TeMFv68uiYLC"
   },
   "source": [
    "Idea twórców jest taka, że sterujemy poniekąd połączoną siłą regularyzacji: `alpha` wyznacza ogólną siłę regularyzacji, a `l1_ratio` jak dużo z tej regularyzacji to L1 (reszta to L2). Można to przeliczyć na osobne współczynniki dla L1 i L2:\n",
    "\n",
    "`a * L1 + b * L2`\n",
    "\n",
    "`alpha = a + b`\n",
    "\n",
    "`l1_ratio = a / (a + b)`"
   ]
  },
  {
   "cell_type": "markdown",
   "metadata": {
    "id": "yMPtmAUriYLC"
   },
   "source": [
    "Mamy tutaj tak czy tak 2 hiperparametry do optymalizacji, przy czym większe `l1_ratio` to większe skupienie na feature selection, a mniejsze to większe skupienie na redukcji wag.\n",
    "\n",
    "Pozostałe ważne argumenty są analogiczne do regresji ridge i lasso. Ważną informacją jest, że wykorzystujemy tutaj iteracyjny algorytm coordinate descent, więc mamy argumenty `selection`, `max_iter` i `tol`."
   ]
  },
  {
   "cell_type": "markdown",
   "metadata": {
    "id": "x3A3kItAiYLC"
   },
   "source": [
    "## Zadanie 10 - wielki finał"
   ]
  },
  {
   "cell_type": "markdown",
   "metadata": {
    "id": "mpE1I-ZPiYLD"
   },
   "source": [
    "Udało ci się dotrzeć do samego końca! Teraz możemy w końcu połączyć wszystko, co sprawdziliśmy wyżej, w naprawdę solidny regresor dla problemu wyceny domów.\n",
    "\n",
    "Postaraj się uzyskać optymalne metryki dla zbioru Boston Housing, korzystając z technik z tego notebooka:\n",
    "- standaryzacja (`StandardScaler`) oraz normalizacja (`sklearn.preprocessing.normalize()`) cech\n",
    "- stworzenie dodatkowych cech za pomocą `PolynomialFeatures`, być może samych interakcji\n",
    "- wykorzystanie zarówno regularyzacji L2, jak i L1 dzięki `ElasticNet`\n",
    "- optymalizacja hiperparametrów za pomocą `GridSearchCV` lub `RandomizedSearch`\n",
    "\n",
    "Zbiór ten jest bardzo popularny i uzyskanie na nim dobrego wyniku za pomocą tych podstawowych technik świadczy o solidnej znajomości podstaw ML. W związku z tym w internecie można też znaleźć mnóstwo sztuczek, jak uzyskać lepsze wyniki, np. w ramach feature engineeringu zmienić rozkład jakiejś cechy jak w [tym przykładzie](https://scikit-learn.org/0.22/auto_examples/compose/plot_transformed_target.html), aby był bliższy rozkładowi normalnemu.\n",
    "\n",
    "Powodzenia!"
   ]
  },
  {
   "cell_type": "code",
   "execution_count": 161,
   "outputs": [
    {
     "name": "stdout",
     "output_type": "stream",
     "text": [
      "(case 1) Looking for the optimal l1_ratio value on my own\n",
      "RSS\n"
     ]
    },
    {
     "data": {
      "text/plain": "<Figure size 432x288 with 1 Axes>",
      "image/png": "[encoded data removed]"
     },
     "metadata": {
      "needs_background": "light"
     },
     "output_type": "display_data"
    },
    {
     "name": "stdout",
     "output_type": "stream",
     "text": [
      "RMSE\n"
     ]
    },
    {
     "data": {
      "text/plain": "<Figure size 432x288 with 1 Axes>",
      "image/png": "[encoded data removed]"
     },
     "metadata": {
      "needs_background": "light"
     },
     "output_type": "display_data"
    },
    {
     "name": "stdout",
     "output_type": "stream",
     "text": [
      "MAE\n"
     ]
    },
    {
     "data": {
      "text/plain": "<Figure size 432x288 with 1 Axes>",
      "image/png": "[encoded data removed]"
     },
     "metadata": {
      "needs_background": "light"
     },
     "output_type": "display_data"
    },
    {
     "name": "stdout",
     "output_type": "stream",
     "text": [
      "(case 2) Looking for the optimal l1_ratio value using GridSearchCV and ElasticNetCV\n",
      "best l1_ratio: 0.5831578947368421\n"
     ]
    }
   ],
   "source": [
    "from sklearn.preprocessing import normalize\n",
    "from sklearn.linear_model import ElasticNetCV\n",
    "\n",
    "\n",
    "# wczytanie danych\n",
    "boston = load_boston()\n",
    "boston_df = pd.DataFrame(boston.data, columns=boston.feature_names)\n",
    "\n",
    "X_train, X_test, y_train, y_test = train_test_split(boston.data, boston.target, test_size=0.3, random_state=0)\n",
    "\n",
    "# skalowanie\n",
    "scaler = StandardScaler()\n",
    "scaler.fit(X_train)\n",
    "X_train_r= scaler.transform(X_train)\n",
    "X_test_r = scaler.transform(X_test)\n",
    "\n",
    "# normalizacja\n",
    "X_train_rn= normalize(X_train_r)\n",
    "X_test_rn = normalize(X_test_r)\n",
    "\n",
    "# dodanie dodatkowych cech\n",
    "poly_features = PolynomialFeatures(degree=2, include_bias=False, interaction_only=True)\n",
    "X_train_rnp = poly_features.fit_transform(X_train_rn)\n",
    "X_test_rnp = poly_features.fit_transform(X_test_rn)\n",
    "\n",
    "# (przypadek 1) ręczne szukanie optymalnego l1_ratio\n",
    "print('(case 1) Looking for the optimal l1_ratio value on my own')\n",
    "start = 0.01\n",
    "points = {'RSS': [[], []], 'RMSE': [[], []], 'MAE': [[], []]}\n",
    "l1_ratio_vals = np.linspace(0.01, 1, num=20)\n",
    "for l1_ratio_val in l1_ratio_vals:\n",
    "    grid_search_cv = GridSearchCV(estimator=ElasticNetCV(l1_ratio=l1_ratio_val), param_grid={}, n_jobs=-1)\n",
    "    grid_search_cv.fit(X_train_rnp, y_train)\n",
    "\n",
    "    y_pred = grid_search_cv.predict(X_test_rnp)\n",
    "    rss = n * mean_squared_error(y_test, y_pred, squared=True)\n",
    "    rmse = mean_squared_error(y_test, y_pred, squared=False)\n",
    "    mae = mean_absolute_error(y_test, y_pred)\n",
    "\n",
    "    # print(f\"l1_ratio: {l1_ratio_val}\")\n",
    "    # print(f\"RSS: {rss}\")\n",
    "    # print(f\"RMSE: {rmse}\")\n",
    "    # print(f\"MAE: {mae}\")\n",
    "    # print()\n",
    "\n",
    "    points['RSS'][0].append(l1_ratio_val)\n",
    "    points['RMSE'][0].append(l1_ratio_val)\n",
    "    points['MAE'][0].append(l1_ratio_val)\n",
    "\n",
    "    points['RSS'][1].append(rss)\n",
    "    points['RMSE'][1].append(rmse)\n",
    "    points['MAE'][1].append(mae)\n",
    "\n",
    "for error_metric in points:\n",
    "    print(error_metric)\n",
    "    plt.scatter(points[error_metric][0], points[error_metric][1])\n",
    "    plt.show()\n",
    "\n",
    "# (przypadek 2) szukanie l1_ratio przy użyciu GridSearchCV i ElasticNetCV\n",
    "print('(case 2) Looking for the optimal l1_ratio value using GridSearchCV and ElasticNetCV')\n",
    "grid_search_cv = GridSearchCV(estimator=ElasticNetCV(), param_grid={'l1_ratio': l1_ratio_vals}, n_jobs=-1)\n",
    "grid_search_cv.fit(X_train_rnp, y_train)\n",
    "y_pred = grid_search_cv.predict(X_test_rnp)\n",
    "\n",
    "print(f\"best l1_ratio: {grid_search_cv.best_params_['l1_ratio']}\")\n",
    "\n",
    "# wyniki się nie pokrywają, z wykresów wynikia, że optymalna wartość l1_ratio powinna wynosić ~0.84, wynik GridSearchCV to 0.58, może być to spowodowane:\n",
    "# a) tym, że do wyznaczenia optymalnej wartości l1_ratio w przypadku 1. używamy predykowanych wartości y, a w przypadku 2. nie,\n",
    "# b) GridSearchCV używa innej metryki do optymalizacji (w przypadku 1. kierowaliśmy się RSS, RMSE, MAE)"
   ],
   "metadata": {
    "collapsed": false,
    "pycharm": {
     "name": "#%%\n"
    }
   }
  },
  {
   "cell_type": "markdown",
   "metadata": {
    "id": "UTfU5xfhiYLD"
   },
   "source": [
    "### Zadanie dodatkowe"
   ]
  },
  {
   "cell_type": "markdown",
   "metadata": {
    "id": "ja0rk-BsiYLD"
   },
   "source": [
    "W bibliotece Scikit-optimize (`skopt`) jest bardzo ciekawy i wydajny optymalizator, `BayesSearchCV` ([dokumentacja i przykład użycia](https://scikit-optimize.github.io/stable/modules/generated/skopt.BayesSearchCV.html#skopt.BayesSearchCV)). Możesz spróbować skorzystać z niego zamiast innych form CV - działa to zasadniczo jak inteligentne `RandomizedSearchCV` z bardzo łatwym definiowaniem rozkładów prawdopodobieństwa (patrz podlinkowany przykład - wystarczy napisać np. `prior='log-uniform'` i stworzy to rozkład log-jednostajny). Możesz spróbować tego użyć, aby przyspieszyć optymalizację hiperparametrów w zadaniu 10."
   ]
  },
  {
   "cell_type": "markdown",
   "metadata": {
    "id": "vYT18vLBiYLD"
   },
   "source": [
    "## Zadanie domowe"
   ]
  },
  {
   "cell_type": "markdown",
   "metadata": {
    "id": "AizwaKILiYLG"
   },
   "source": [
    "Jako dodatkowe zadanie domowe możesz zaimplementować ridge regression i/lub lasso regression. Do ridge regression możesz użyć GD lub CD, a dla lasso CD. Jeżeli masz naprawdę nadmiar czasu, to możesz też zaimplementować ElasticNet za pomocą CD."
   ]
  },
  {
   "cell_type": "code",
   "execution_count": 161,
   "metadata": {
    "id": "rPy58vrLiYLG"
   },
   "outputs": [],
   "source": []
  }
 ],
 "metadata": {
  "colab": {
   "name": "Notebook.ipynb",
   "provenance": []
  },
  "kernelspec": {
   "display_name": "Python 3",
   "language": "python",
   "name": "python3"
  },
  "language_info": {
   "codemirror_mode": {
    "name": "ipython",
    "version": 3
   },
   "file_extension": ".py",
   "mimetype": "text/x-python",
   "name": "python",
   "nbconvert_exporter": "python",
   "pygments_lexer": "ipython3",
   "version": "3.8.8"
  },
  "toc": {
   "base_numbering": 1,
   "nav_menu": {},
   "number_sections": true,
   "sideBar": true,
   "skip_h1_title": false,
   "title_cell": "Table of Contents",
   "title_sidebar": "Contents",
   "toc_cell": false,
   "toc_position": {},
   "toc_section_display": true,
   "toc_window_display": false
  },
  "varInspector": {
   "cols": {
    "lenName": 16,
    "lenType": 16,
    "lenVar": 40
   },
   "kernels_config": {
    "python": {
     "delete_cmd_postfix": "",
     "delete_cmd_prefix": "del ",
     "library": "var_list.py",
     "varRefreshCmd": "print(var_dic_list())"
    },
    "r": {
     "delete_cmd_postfix": ") ",
     "delete_cmd_prefix": "rm(",
     "library": "var_list.r",
     "varRefreshCmd": "cat(var_dic_list()) "
    }
   },
   "types_to_exclude": [
    "module",
    "function",
    "builtin_function_or_method",
    "instance",
    "_Feature"
   ],
   "window_display": false
  }
 },
 "nbformat": 4,
 "nbformat_minor": 1
}